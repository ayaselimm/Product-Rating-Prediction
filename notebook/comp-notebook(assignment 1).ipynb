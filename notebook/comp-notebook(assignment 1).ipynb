{
 "cells": [
  {
   "cell_type": "markdown",
   "metadata": {},
   "source": [
    "# Describe the issue:\n",
    "When a new product is to be listed on wish.com, we can estimate the likelihood that people will like it without actually placing it there. We were provided a dataset gathered from wise.com and instructed to create machine learning models in order to be able to predict the rating of a specific product.additionally, we can predict when a product will receive a high rating on wise.com thanks to the interpretability of machine learning.\n",
    "\n",
    "\n",
    "What's the input?\n",
    "\n",
    "Two files were sent to us: one for testing and one for training.The features that we discussed above are contained in the two files:\n",
    ". price the price of the piece.\n",
    ". retail price the retails price.\n",
    ". units sold the number of sold pieces.\n",
    ". uses ads boosts if the merchant you ads.\n",
    ". rating count the number of rating for this product.\n",
    ". badges count the number of badges the product and merchant have.\n",
    ". badge product quality a badge which is given for the good products.\n",
    ". badge fast shipping indicating that the merchent fast ship the pieces.\n",
    ". product color the color of the product.\n",
    ". product variation size the size of the piece.[medium ,large,small,..].\n",
    ". product variation inverntory the variation in the inverntory.\n",
    ". shipping option price\n",
    ". has urgency bannerif there is a urgency text for the product [limited edition - sale ....].\n",
    ". origin country the country of the manufacturer.\n",
    ". merchant rating count the number of rating the merchant has on wise.\n",
    ". merchant rating the rating of the merchant.\n",
    ". merchant has profile picturethe flag indicating the availability of merchant picture.\n",
    ". merchant profile picture link of the picture.\n",
    "\n",
    "\n",
    "what is the output?\n",
    "\n",
    "In this work, which involved supervising a machine learning classification task, we were required to forecast the product's rating as a number, ranging from 1 to 5.\n",
    "features an urgency banner in the event that the product has an urgency text (limited edition - sale, etc.).\n",
    "origin nation, the nation where the product is made.\n",
    "\n",
    "\n",
    "What is the data mining function?\n",
    "\n",
    "We are using data mining's classification functionality to solve this challenge.\n",
    "Nonetheless, I first went through the machine learning process, which is as follows:\n",
    "\n",
    "Data cleaning includes managing null values, removing columns that have a constant value, and handling inconsistent columns.\n",
    "information To address the skewness of some columns in the numerical preprocessing, I used a conventional scaler and a log transform \n",
    "arranging Define the task as a classification problem, choose an evaluation measure, and then test various models with various features and hyperparameters.\n",
    "\n",
    "\n",
    "What could be the challenges?\n",
    "\n",
    "The dataset had numerous inconsistent columns, including those for the merchant subtitle information, product variation size id, color, and tags. It was highly biased and misformatted, so I began by determining whether there were any duplicates in the data, dealing with the inconsistent data entry, performing a variety of feature selection techniques, and experimenting with different models to determine which one would work best for our situation.then makes it even better.\n",
    "\n",
    "What is the impact?\n",
    "\n",
    "It's very difficult to collect data for some products for business purposes because we can't force the end user to rate if he doesn't want to. Therefore, we try to list only those products that will have high rates, which will help both the merchant and the customer sell their products. Additionally, by predicting the product's rate before listing it on the platform, this will help the companies determine whether the product will be accepted by the customers.\n",
    "\n",
    "\n",
    "What is an ideal solution?\n",
    "\n",
    "possessing an infinite number of records, which will enable us to create the best model without worrying about overfitting. We also have other models that operate by grouping customers based on their interests so they can only view products that align with their interests, improving the customer's experience on the platform and helping merchants boost sales. And because we lack all of that, I attempted to create a model using the dataset provided, which yields a f1-score of roughly 0.76 We still need to collect more information and revisit this issue in order to improve the model and try to outperform it.\n"
   ]
  },
  {
   "cell_type": "code",
   "execution_count": 292,
   "metadata": {
    "_cell_guid": "b1076dfc-b9ad-4769-8c92-a6c4dae69d19",
    "_uuid": "8f2839f25d086af736a60e9eeb907d3b93b6e0e5",
    "execution": {
     "iopub.execute_input": "2024-03-21T13:56:54.912007Z",
     "iopub.status.busy": "2024-03-21T13:56:54.911515Z",
     "iopub.status.idle": "2024-03-21T13:56:54.928717Z",
     "shell.execute_reply": "2024-03-21T13:56:54.927746Z",
     "shell.execute_reply.started": "2024-03-21T13:56:54.911972Z"
    }
   },
   "outputs": [
    {
     "name": "stdout",
     "output_type": "stream",
     "text": [
      "/kaggle/input/competition/test_new.csv\n",
      "/kaggle/input/competition/train_new.csv\n"
     ]
    }
   ],
   "source": [
    "# This Python 3 environment comes with many helpful analytics libraries installed\n",
    "# It is defined by the kaggle/python Docker image: https://github.com/kaggle/docker-python\n",
    "# For example, here's several helpful packages to load\n",
    "\n",
    "import numpy as np # linear algebra\n",
    "import pandas as pd # data processing, CSV file I/O (e.g. pd.read_csv)\n",
    "\n",
    "# Input data files are available in the read-only \"../input/\" directory\n",
    "# For example, running this (by clicking run or pressing Shift+Enter) will list all files under the input directory\n",
    "\n",
    "import os\n",
    "for dirname, _, filenames in os.walk('/kaggle/input'):\n",
    "    for filename in filenames:\n",
    "        print(os.path.join(dirname, filename))\n",
    "\n",
    "# You can write up to 20GB to the current directory (/kaggle/working/) that gets preserved as output when you create a version using \"Save & Run All\" \n",
    "# You can also write temporary files to /kaggle/temp/, but they won't be saved outside of the current session"
   ]
  },
  {
   "cell_type": "code",
   "execution_count": 293,
   "metadata": {
    "execution": {
     "iopub.execute_input": "2024-03-21T13:56:54.989388Z",
     "iopub.status.busy": "2024-03-21T13:56:54.988999Z",
     "iopub.status.idle": "2024-03-21T13:56:54.996577Z",
     "shell.execute_reply": "2024-03-21T13:56:54.995314Z",
     "shell.execute_reply.started": "2024-03-21T13:56:54.989359Z"
    }
   },
   "outputs": [],
   "source": [
    "#import libraries\n",
    "import pandas as pd \n",
    "import numpy as np\n",
    "import matplotlib.pyplot as plt\n",
    "import plotly.express as px\n",
    "from sklearn.model_selection import train_test_split\n",
    "from sklearn.preprocessing import StandardScaler\n",
    "from sklearn.tree import DecisionTreeClassifier\n",
    "from sklearn.metrics import accuracy_score, mean_squared_error\n",
    "from sklearn.svm import SVC\n",
    "from sklearn.ensemble import AdaBoostClassifier,BaggingClassifier,RandomForestClassifier\n",
    "import xgboost as xgb\n",
    "from sklearn.neighbors import KNeighborsClassifier\n",
    "from sklearn.linear_model import LogisticRegression\n",
    "from sklearn.naive_bayes import GaussianNB\n",
    "from sklearn.metrics import classification_report, f1_score"
   ]
  },
  {
   "cell_type": "code",
   "execution_count": 379,
   "metadata": {
    "execution": {
     "iopub.execute_input": "2024-03-21T14:32:36.211729Z",
     "iopub.status.busy": "2024-03-21T14:32:36.211180Z",
     "iopub.status.idle": "2024-03-21T14:32:36.274058Z",
     "shell.execute_reply": "2024-03-21T14:32:36.272611Z",
     "shell.execute_reply.started": "2024-03-21T14:32:36.211689Z"
    }
   },
   "outputs": [
    {
     "data": {
      "text/html": [
       "<div>\n",
       "<style scoped>\n",
       "    .dataframe tbody tr th:only-of-type {\n",
       "        vertical-align: middle;\n",
       "    }\n",
       "\n",
       "    .dataframe tbody tr th {\n",
       "        vertical-align: top;\n",
       "    }\n",
       "\n",
       "    .dataframe thead th {\n",
       "        text-align: right;\n",
       "    }\n",
       "</style>\n",
       "<table border=\"1\" class=\"dataframe\">\n",
       "  <thead>\n",
       "    <tr style=\"text-align: right;\">\n",
       "      <th></th>\n",
       "      <th>price</th>\n",
       "      <th>retail_price</th>\n",
       "      <th>currency_buyer</th>\n",
       "      <th>units_sold</th>\n",
       "      <th>uses_ad_boosts</th>\n",
       "      <th>rating</th>\n",
       "      <th>rating_count</th>\n",
       "      <th>badges_count</th>\n",
       "      <th>badge_local_product</th>\n",
       "      <th>badge_product_quality</th>\n",
       "      <th>...</th>\n",
       "      <th>merchant_name</th>\n",
       "      <th>merchant_info_subtitle</th>\n",
       "      <th>merchant_rating_count</th>\n",
       "      <th>merchant_rating</th>\n",
       "      <th>merchant_id</th>\n",
       "      <th>merchant_has_profile_picture</th>\n",
       "      <th>merchant_profile_picture</th>\n",
       "      <th>theme</th>\n",
       "      <th>crawl_month</th>\n",
       "      <th>id</th>\n",
       "    </tr>\n",
       "  </thead>\n",
       "  <tbody>\n",
       "    <tr>\n",
       "      <th>0</th>\n",
       "      <td>8.00</td>\n",
       "      <td>7</td>\n",
       "      <td>EUR</td>\n",
       "      <td>10000</td>\n",
       "      <td>1</td>\n",
       "      <td>4.0</td>\n",
       "      <td>1670</td>\n",
       "      <td>0</td>\n",
       "      <td>0</td>\n",
       "      <td>0</td>\n",
       "      <td>...</td>\n",
       "      <td>keepahorse</td>\n",
       "      <td>88 % avis positifs (66,644 notes)</td>\n",
       "      <td>66644</td>\n",
       "      <td>4.137582</td>\n",
       "      <td>577fb2b368116418674befd9</td>\n",
       "      <td>1</td>\n",
       "      <td>https://s3-us-west-1.amazonaws.com/sweeper-pro...</td>\n",
       "      <td>summer</td>\n",
       "      <td>2020-08</td>\n",
       "      <td>272</td>\n",
       "    </tr>\n",
       "    <tr>\n",
       "      <th>1</th>\n",
       "      <td>8.00</td>\n",
       "      <td>7</td>\n",
       "      <td>EUR</td>\n",
       "      <td>1000</td>\n",
       "      <td>0</td>\n",
       "      <td>4.0</td>\n",
       "      <td>843</td>\n",
       "      <td>1</td>\n",
       "      <td>1</td>\n",
       "      <td>0</td>\n",
       "      <td>...</td>\n",
       "      <td>上海铭启电气科技有限公司</td>\n",
       "      <td>91 % avis positifs (25,752 notes)</td>\n",
       "      <td>25752</td>\n",
       "      <td>4.256873</td>\n",
       "      <td>566a3ef17233ff2686443082</td>\n",
       "      <td>0</td>\n",
       "      <td>NaN</td>\n",
       "      <td>summer</td>\n",
       "      <td>2020-08</td>\n",
       "      <td>1515</td>\n",
       "    </tr>\n",
       "    <tr>\n",
       "      <th>2</th>\n",
       "      <td>6.00</td>\n",
       "      <td>34</td>\n",
       "      <td>EUR</td>\n",
       "      <td>100</td>\n",
       "      <td>0</td>\n",
       "      <td>4.0</td>\n",
       "      <td>10</td>\n",
       "      <td>0</td>\n",
       "      <td>0</td>\n",
       "      <td>0</td>\n",
       "      <td>...</td>\n",
       "      <td>zhaodongmei</td>\n",
       "      <td>83 % avis positifs (3,897 notes)</td>\n",
       "      <td>3897</td>\n",
       "      <td>3.928920</td>\n",
       "      <td>5aacd6c1ccf0c83e5a6f3de0</td>\n",
       "      <td>0</td>\n",
       "      <td>NaN</td>\n",
       "      <td>summer</td>\n",
       "      <td>2020-08</td>\n",
       "      <td>940</td>\n",
       "    </tr>\n",
       "    <tr>\n",
       "      <th>3</th>\n",
       "      <td>4.67</td>\n",
       "      <td>4</td>\n",
       "      <td>EUR</td>\n",
       "      <td>100</td>\n",
       "      <td>1</td>\n",
       "      <td>3.0</td>\n",
       "      <td>82</td>\n",
       "      <td>0</td>\n",
       "      <td>0</td>\n",
       "      <td>0</td>\n",
       "      <td>...</td>\n",
       "      <td>pookie0331</td>\n",
       "      <td>87 % avis positifs (7,497 notes)</td>\n",
       "      <td>7497</td>\n",
       "      <td>4.079365</td>\n",
       "      <td>583141fbfef4094e51453d9b</td>\n",
       "      <td>0</td>\n",
       "      <td>NaN</td>\n",
       "      <td>summer</td>\n",
       "      <td>2020-08</td>\n",
       "      <td>309</td>\n",
       "    </tr>\n",
       "    <tr>\n",
       "      <th>4</th>\n",
       "      <td>8.00</td>\n",
       "      <td>11</td>\n",
       "      <td>EUR</td>\n",
       "      <td>1000</td>\n",
       "      <td>0</td>\n",
       "      <td>4.0</td>\n",
       "      <td>127</td>\n",
       "      <td>0</td>\n",
       "      <td>0</td>\n",
       "      <td>0</td>\n",
       "      <td>...</td>\n",
       "      <td>shitongyi12683626</td>\n",
       "      <td>91 % avis positifs (173 notes)</td>\n",
       "      <td>173</td>\n",
       "      <td>4.306358</td>\n",
       "      <td>5d3bc9f8e13a7e654424a4cb</td>\n",
       "      <td>0</td>\n",
       "      <td>NaN</td>\n",
       "      <td>summer</td>\n",
       "      <td>2020-08</td>\n",
       "      <td>226</td>\n",
       "    </tr>\n",
       "    <tr>\n",
       "      <th>...</th>\n",
       "      <td>...</td>\n",
       "      <td>...</td>\n",
       "      <td>...</td>\n",
       "      <td>...</td>\n",
       "      <td>...</td>\n",
       "      <td>...</td>\n",
       "      <td>...</td>\n",
       "      <td>...</td>\n",
       "      <td>...</td>\n",
       "      <td>...</td>\n",
       "      <td>...</td>\n",
       "      <td>...</td>\n",
       "      <td>...</td>\n",
       "      <td>...</td>\n",
       "      <td>...</td>\n",
       "      <td>...</td>\n",
       "      <td>...</td>\n",
       "      <td>...</td>\n",
       "      <td>...</td>\n",
       "      <td>...</td>\n",
       "      <td>...</td>\n",
       "    </tr>\n",
       "    <tr>\n",
       "      <th>1089</th>\n",
       "      <td>4.00</td>\n",
       "      <td>4</td>\n",
       "      <td>EUR</td>\n",
       "      <td>10000</td>\n",
       "      <td>0</td>\n",
       "      <td>4.0</td>\n",
       "      <td>2150</td>\n",
       "      <td>0</td>\n",
       "      <td>0</td>\n",
       "      <td>0</td>\n",
       "      <td>...</td>\n",
       "      <td>fantastic_tune</td>\n",
       "      <td>92 % avis positifs (230,951 notes)</td>\n",
       "      <td>230951</td>\n",
       "      <td>4.311066</td>\n",
       "      <td>53f2db3c104dae6bcae0c271</td>\n",
       "      <td>0</td>\n",
       "      <td>NaN</td>\n",
       "      <td>summer</td>\n",
       "      <td>2020-08</td>\n",
       "      <td>1381</td>\n",
       "    </tr>\n",
       "    <tr>\n",
       "      <th>1090</th>\n",
       "      <td>5.00</td>\n",
       "      <td>5</td>\n",
       "      <td>EUR</td>\n",
       "      <td>1000</td>\n",
       "      <td>0</td>\n",
       "      <td>5.0</td>\n",
       "      <td>377</td>\n",
       "      <td>1</td>\n",
       "      <td>0</td>\n",
       "      <td>1</td>\n",
       "      <td>...</td>\n",
       "      <td>zzbllss</td>\n",
       "      <td>(2,904 notes)</td>\n",
       "      <td>2904</td>\n",
       "      <td>4.422521</td>\n",
       "      <td>592968ba63950d682ca4b195</td>\n",
       "      <td>0</td>\n",
       "      <td>NaN</td>\n",
       "      <td>summer</td>\n",
       "      <td>2020-08</td>\n",
       "      <td>212</td>\n",
       "    </tr>\n",
       "    <tr>\n",
       "      <th>1091</th>\n",
       "      <td>9.00</td>\n",
       "      <td>48</td>\n",
       "      <td>EUR</td>\n",
       "      <td>1000</td>\n",
       "      <td>1</td>\n",
       "      <td>4.0</td>\n",
       "      <td>135</td>\n",
       "      <td>0</td>\n",
       "      <td>0</td>\n",
       "      <td>0</td>\n",
       "      <td>...</td>\n",
       "      <td>oiug56465</td>\n",
       "      <td>78 % avis positifs (6,632 notes)</td>\n",
       "      <td>6632</td>\n",
       "      <td>3.748794</td>\n",
       "      <td>5b6ec2f2838d931d2fbf7a28</td>\n",
       "      <td>0</td>\n",
       "      <td>NaN</td>\n",
       "      <td>summer</td>\n",
       "      <td>2020-08</td>\n",
       "      <td>163</td>\n",
       "    </tr>\n",
       "    <tr>\n",
       "      <th>1092</th>\n",
       "      <td>11.00</td>\n",
       "      <td>10</td>\n",
       "      <td>EUR</td>\n",
       "      <td>10000</td>\n",
       "      <td>1</td>\n",
       "      <td>4.0</td>\n",
       "      <td>1479</td>\n",
       "      <td>0</td>\n",
       "      <td>0</td>\n",
       "      <td>0</td>\n",
       "      <td>...</td>\n",
       "      <td>yubenqiang</td>\n",
       "      <td>83 % avis positifs (5,816 notes)</td>\n",
       "      <td>5816</td>\n",
       "      <td>3.936382</td>\n",
       "      <td>58330d7def56284f7634e5e5</td>\n",
       "      <td>0</td>\n",
       "      <td>NaN</td>\n",
       "      <td>summer</td>\n",
       "      <td>2020-08</td>\n",
       "      <td>674</td>\n",
       "    </tr>\n",
       "    <tr>\n",
       "      <th>1093</th>\n",
       "      <td>7.00</td>\n",
       "      <td>6</td>\n",
       "      <td>EUR</td>\n",
       "      <td>1000</td>\n",
       "      <td>1</td>\n",
       "      <td>3.0</td>\n",
       "      <td>141</td>\n",
       "      <td>0</td>\n",
       "      <td>0</td>\n",
       "      <td>0</td>\n",
       "      <td>...</td>\n",
       "      <td>greatexpectationstechnology</td>\n",
       "      <td>86 % avis positifs (12,309 notes)</td>\n",
       "      <td>12309</td>\n",
       "      <td>4.045170</td>\n",
       "      <td>5acaf29d5ebcfd72403106a8</td>\n",
       "      <td>1</td>\n",
       "      <td>https://s3-us-west-1.amazonaws.com/sweeper-pro...</td>\n",
       "      <td>summer</td>\n",
       "      <td>2020-08</td>\n",
       "      <td>1536</td>\n",
       "    </tr>\n",
       "  </tbody>\n",
       "</table>\n",
       "<p>1094 rows × 34 columns</p>\n",
       "</div>"
      ],
      "text/plain": [
       "      price  retail_price currency_buyer  units_sold  uses_ad_boosts  rating  \\\n",
       "0      8.00             7            EUR       10000               1     4.0   \n",
       "1      8.00             7            EUR        1000               0     4.0   \n",
       "2      6.00            34            EUR         100               0     4.0   \n",
       "3      4.67             4            EUR         100               1     3.0   \n",
       "4      8.00            11            EUR        1000               0     4.0   \n",
       "...     ...           ...            ...         ...             ...     ...   \n",
       "1089   4.00             4            EUR       10000               0     4.0   \n",
       "1090   5.00             5            EUR        1000               0     5.0   \n",
       "1091   9.00            48            EUR        1000               1     4.0   \n",
       "1092  11.00            10            EUR       10000               1     4.0   \n",
       "1093   7.00             6            EUR        1000               1     3.0   \n",
       "\n",
       "      rating_count  badges_count  badge_local_product  badge_product_quality  \\\n",
       "0             1670             0                    0                      0   \n",
       "1              843             1                    1                      0   \n",
       "2               10             0                    0                      0   \n",
       "3               82             0                    0                      0   \n",
       "4              127             0                    0                      0   \n",
       "...            ...           ...                  ...                    ...   \n",
       "1089          2150             0                    0                      0   \n",
       "1090           377             1                    0                      1   \n",
       "1091           135             0                    0                      0   \n",
       "1092          1479             0                    0                      0   \n",
       "1093           141             0                    0                      0   \n",
       "\n",
       "      ...                merchant_name              merchant_info_subtitle  \\\n",
       "0     ...                   keepahorse   88 % avis positifs (66,644 notes)   \n",
       "1     ...                 上海铭启电气科技有限公司   91 % avis positifs (25,752 notes)   \n",
       "2     ...                  zhaodongmei    83 % avis positifs (3,897 notes)   \n",
       "3     ...                   pookie0331    87 % avis positifs (7,497 notes)   \n",
       "4     ...            shitongyi12683626      91 % avis positifs (173 notes)   \n",
       "...   ...                          ...                                 ...   \n",
       "1089  ...               fantastic_tune  92 % avis positifs (230,951 notes)   \n",
       "1090  ...                      zzbllss                       (2,904 notes)   \n",
       "1091  ...                    oiug56465    78 % avis positifs (6,632 notes)   \n",
       "1092  ...                   yubenqiang    83 % avis positifs (5,816 notes)   \n",
       "1093  ...  greatexpectationstechnology   86 % avis positifs (12,309 notes)   \n",
       "\n",
       "     merchant_rating_count merchant_rating               merchant_id  \\\n",
       "0                    66644        4.137582  577fb2b368116418674befd9   \n",
       "1                    25752        4.256873  566a3ef17233ff2686443082   \n",
       "2                     3897        3.928920  5aacd6c1ccf0c83e5a6f3de0   \n",
       "3                     7497        4.079365  583141fbfef4094e51453d9b   \n",
       "4                      173        4.306358  5d3bc9f8e13a7e654424a4cb   \n",
       "...                    ...             ...                       ...   \n",
       "1089                230951        4.311066  53f2db3c104dae6bcae0c271   \n",
       "1090                  2904        4.422521  592968ba63950d682ca4b195   \n",
       "1091                  6632        3.748794  5b6ec2f2838d931d2fbf7a28   \n",
       "1092                  5816        3.936382  58330d7def56284f7634e5e5   \n",
       "1093                 12309        4.045170  5acaf29d5ebcfd72403106a8   \n",
       "\n",
       "     merchant_has_profile_picture  \\\n",
       "0                               1   \n",
       "1                               0   \n",
       "2                               0   \n",
       "3                               0   \n",
       "4                               0   \n",
       "...                           ...   \n",
       "1089                            0   \n",
       "1090                            0   \n",
       "1091                            0   \n",
       "1092                            0   \n",
       "1093                            1   \n",
       "\n",
       "                               merchant_profile_picture   theme  crawl_month  \\\n",
       "0     https://s3-us-west-1.amazonaws.com/sweeper-pro...  summer      2020-08   \n",
       "1                                                   NaN  summer      2020-08   \n",
       "2                                                   NaN  summer      2020-08   \n",
       "3                                                   NaN  summer      2020-08   \n",
       "4                                                   NaN  summer      2020-08   \n",
       "...                                                 ...     ...          ...   \n",
       "1089                                                NaN  summer      2020-08   \n",
       "1090                                                NaN  summer      2020-08   \n",
       "1091                                                NaN  summer      2020-08   \n",
       "1092                                                NaN  summer      2020-08   \n",
       "1093  https://s3-us-west-1.amazonaws.com/sweeper-pro...  summer      2020-08   \n",
       "\n",
       "        id  \n",
       "0      272  \n",
       "1     1515  \n",
       "2      940  \n",
       "3      309  \n",
       "4      226  \n",
       "...    ...  \n",
       "1089  1381  \n",
       "1090   212  \n",
       "1091   163  \n",
       "1092   674  \n",
       "1093  1536  \n",
       "\n",
       "[1094 rows x 34 columns]"
      ]
     },
     "execution_count": 379,
     "metadata": {},
     "output_type": "execute_result"
    }
   ],
   "source": [
    "#read the  training data\n",
    "df=pd.read_csv(\"/kaggle/input/competition/train_new.csv\")\n",
    "df"
   ]
  },
  {
   "cell_type": "code",
   "execution_count": 380,
   "metadata": {
    "execution": {
     "iopub.execute_input": "2024-03-21T14:32:40.500105Z",
     "iopub.status.busy": "2024-03-21T14:32:40.499588Z",
     "iopub.status.idle": "2024-03-21T14:32:40.522336Z",
     "shell.execute_reply": "2024-03-21T14:32:40.520546Z",
     "shell.execute_reply.started": "2024-03-21T14:32:40.500068Z"
    }
   },
   "outputs": [
    {
     "name": "stdout",
     "output_type": "stream",
     "text": [
      "<class 'pandas.core.frame.DataFrame'>\n",
      "RangeIndex: 1094 entries, 0 to 1093\n",
      "Data columns (total 34 columns):\n",
      " #   Column                        Non-Null Count  Dtype  \n",
      "---  ------                        --------------  -----  \n",
      " 0   price                         1094 non-null   float64\n",
      " 1   retail_price                  1094 non-null   int64  \n",
      " 2   currency_buyer                1094 non-null   object \n",
      " 3   units_sold                    1094 non-null   int64  \n",
      " 4   uses_ad_boosts                1094 non-null   int64  \n",
      " 5   rating                        1094 non-null   float64\n",
      " 6   rating_count                  1094 non-null   int64  \n",
      " 7   badges_count                  1094 non-null   int64  \n",
      " 8   badge_local_product           1094 non-null   int64  \n",
      " 9   badge_product_quality         1094 non-null   int64  \n",
      " 10  badge_fast_shipping           1094 non-null   int64  \n",
      " 11  tags                          1094 non-null   object \n",
      " 12  product_color                 1065 non-null   object \n",
      " 13  product_variation_size_id     1082 non-null   object \n",
      " 14  product_variation_inventory   1094 non-null   int64  \n",
      " 15  shipping_option_name          1094 non-null   object \n",
      " 16  shipping_option_price         1094 non-null   int64  \n",
      " 17  shipping_is_express           1094 non-null   int64  \n",
      " 18  countries_shipped_to          1094 non-null   int64  \n",
      " 19  inventory_total               1094 non-null   int64  \n",
      " 20  has_urgency_banner            349 non-null    float64\n",
      " 21  urgency_text                  349 non-null    object \n",
      " 22  origin_country                1082 non-null   object \n",
      " 23  merchant_title                1094 non-null   object \n",
      " 24  merchant_name                 1090 non-null   object \n",
      " 25  merchant_info_subtitle        1094 non-null   object \n",
      " 26  merchant_rating_count         1094 non-null   int64  \n",
      " 27  merchant_rating               1094 non-null   float64\n",
      " 28  merchant_id                   1094 non-null   object \n",
      " 29  merchant_has_profile_picture  1094 non-null   int64  \n",
      " 30  merchant_profile_picture      170 non-null    object \n",
      " 31  theme                         1094 non-null   object \n",
      " 32  crawl_month                   1094 non-null   object \n",
      " 33  id                            1094 non-null   int64  \n",
      "dtypes: float64(4), int64(16), object(14)\n",
      "memory usage: 290.7+ KB\n"
     ]
    }
   ],
   "source": [
    "df.info()"
   ]
  },
  {
   "cell_type": "markdown",
   "metadata": {},
   "source": [
    "**As** we see we have 33 features and one label which we need to train on, at frist glance we need to drop some columns which can not affect the target "
   ]
  },
  {
   "cell_type": "code",
   "execution_count": 381,
   "metadata": {
    "execution": {
     "iopub.execute_input": "2024-03-21T14:32:44.762600Z",
     "iopub.status.busy": "2024-03-21T14:32:44.762079Z",
     "iopub.status.idle": "2024-03-21T14:32:44.775590Z",
     "shell.execute_reply": "2024-03-21T14:32:44.773438Z",
     "shell.execute_reply.started": "2024-03-21T14:32:44.762562Z"
    }
   },
   "outputs": [
    {
     "data": {
      "text/plain": [
       "price                             0\n",
       "retail_price                      0\n",
       "currency_buyer                    0\n",
       "units_sold                        0\n",
       "uses_ad_boosts                    0\n",
       "rating                            0\n",
       "rating_count                      0\n",
       "badges_count                      0\n",
       "badge_local_product               0\n",
       "badge_product_quality             0\n",
       "badge_fast_shipping               0\n",
       "tags                              0\n",
       "product_color                    29\n",
       "product_variation_size_id        12\n",
       "product_variation_inventory       0\n",
       "shipping_option_name              0\n",
       "shipping_option_price             0\n",
       "shipping_is_express               0\n",
       "countries_shipped_to              0\n",
       "inventory_total                   0\n",
       "has_urgency_banner              745\n",
       "urgency_text                    745\n",
       "origin_country                   12\n",
       "merchant_title                    0\n",
       "merchant_name                     4\n",
       "merchant_info_subtitle            0\n",
       "merchant_rating_count             0\n",
       "merchant_rating                   0\n",
       "merchant_id                       0\n",
       "merchant_has_profile_picture      0\n",
       "merchant_profile_picture        924\n",
       "theme                             0\n",
       "crawl_month                       0\n",
       "id                                0\n",
       "dtype: int64"
      ]
     },
     "execution_count": 381,
     "metadata": {},
     "output_type": "execute_result"
    }
   ],
   "source": [
    "# sum of null values in each column\n",
    "df.isna().sum()"
   ]
  },
  {
   "cell_type": "markdown",
   "metadata": {},
   "source": [
    "\n",
    "**We have null values present in certain columns of our dataset, and it is necessary to address them effectively.**"
   ]
  },
  {
   "cell_type": "markdown",
   "metadata": {},
   "source": [
    "fristly we have  number of null values in some columns like product_color','product_variation_size_id','origin_country','merchant_name','merchant_profile_picture','merchant_info_subtitle','merchant_has_profile_picture','urgency_text' So we need to drop them"
   ]
  },
  {
   "cell_type": "code",
   "execution_count": 382,
   "metadata": {
    "execution": {
     "iopub.execute_input": "2024-03-21T14:32:51.117277Z",
     "iopub.status.busy": "2024-03-21T14:32:51.116628Z",
     "iopub.status.idle": "2024-03-21T14:32:51.126719Z",
     "shell.execute_reply": "2024-03-21T14:32:51.125331Z",
     "shell.execute_reply.started": "2024-03-21T14:32:51.117238Z"
    }
   },
   "outputs": [],
   "source": [
    "df.drop(columns=['product_color','product_variation_size_id','origin_country','merchant_name','merchant_profile_picture','merchant_info_subtitle','merchant_has_profile_picture','urgency_text'], inplace=True)\n"
   ]
  },
  {
   "cell_type": "code",
   "execution_count": 331,
   "metadata": {
    "execution": {
     "iopub.execute_input": "2024-03-21T14:00:24.418028Z",
     "iopub.status.busy": "2024-03-21T14:00:24.417467Z",
     "iopub.status.idle": "2024-03-21T14:00:24.431182Z",
     "shell.execute_reply": "2024-03-21T14:00:24.430050Z",
     "shell.execute_reply.started": "2024-03-21T14:00:24.417988Z"
    }
   },
   "outputs": [
    {
     "data": {
      "text/plain": [
       "price                            0\n",
       "retail_price                     0\n",
       "currency_buyer                   0\n",
       "units_sold                       0\n",
       "uses_ad_boosts                   0\n",
       "rating                           0\n",
       "rating_count                     0\n",
       "badges_count                     0\n",
       "badge_local_product              0\n",
       "badge_product_quality            0\n",
       "badge_fast_shipping              0\n",
       "tags                             0\n",
       "product_variation_inventory      0\n",
       "shipping_option_name             0\n",
       "shipping_option_price            0\n",
       "shipping_is_express              0\n",
       "countries_shipped_to             0\n",
       "inventory_total                  0\n",
       "has_urgency_banner             745\n",
       "merchant_title                   0\n",
       "merchant_rating_count            0\n",
       "merchant_rating                  0\n",
       "merchant_id                      0\n",
       "theme                            0\n",
       "crawl_month                      0\n",
       "id                               0\n",
       "dtype: int64"
      ]
     },
     "execution_count": 331,
     "metadata": {},
     "output_type": "execute_result"
    }
   ],
   "source": [
    "df.isna().sum()"
   ]
  },
  {
   "cell_type": "markdown",
   "metadata": {},
   "source": [
    "On the other hand, we are encountering a large number of null values in some columns. Therefore, let's explore strategies for handling them"
   ]
  },
  {
   "cell_type": "code",
   "execution_count": 332,
   "metadata": {
    "execution": {
     "iopub.execute_input": "2024-03-21T14:00:36.128488Z",
     "iopub.status.busy": "2024-03-21T14:00:36.127940Z",
     "iopub.status.idle": "2024-03-21T14:00:36.138057Z",
     "shell.execute_reply": "2024-03-21T14:00:36.136419Z",
     "shell.execute_reply.started": "2024-03-21T14:00:36.128452Z"
    }
   },
   "outputs": [
    {
     "data": {
      "text/plain": [
       "array([nan,  1.])"
      ]
     },
     "execution_count": 332,
     "metadata": {},
     "output_type": "execute_result"
    }
   ],
   "source": [
    "# unique values in has urgency banner column\n",
    "df['has_urgency_banner'].unique()"
   ]
  },
  {
   "cell_type": "markdown",
   "metadata": {},
   "source": [
    "we have 2 values nan and 1 So i decide to fill the nulls with 0"
   ]
  },
  {
   "cell_type": "code",
   "execution_count": 333,
   "metadata": {
    "execution": {
     "iopub.execute_input": "2024-03-21T14:00:47.629647Z",
     "iopub.status.busy": "2024-03-21T14:00:47.629266Z",
     "iopub.status.idle": "2024-03-21T14:00:47.637204Z",
     "shell.execute_reply": "2024-03-21T14:00:47.635558Z",
     "shell.execute_reply.started": "2024-03-21T14:00:47.629621Z"
    }
   },
   "outputs": [],
   "source": [
    "df['has_urgency_banner'] = df['has_urgency_banner'].fillna(0)"
   ]
  },
  {
   "cell_type": "code",
   "execution_count": 334,
   "metadata": {
    "execution": {
     "iopub.execute_input": "2024-03-21T14:00:54.018968Z",
     "iopub.status.busy": "2024-03-21T14:00:54.017330Z",
     "iopub.status.idle": "2024-03-21T14:00:54.031285Z",
     "shell.execute_reply": "2024-03-21T14:00:54.029014Z",
     "shell.execute_reply.started": "2024-03-21T14:00:54.018917Z"
    }
   },
   "outputs": [
    {
     "data": {
      "text/plain": [
       "price                          0\n",
       "retail_price                   0\n",
       "currency_buyer                 0\n",
       "units_sold                     0\n",
       "uses_ad_boosts                 0\n",
       "rating                         0\n",
       "rating_count                   0\n",
       "badges_count                   0\n",
       "badge_local_product            0\n",
       "badge_product_quality          0\n",
       "badge_fast_shipping            0\n",
       "tags                           0\n",
       "product_variation_inventory    0\n",
       "shipping_option_name           0\n",
       "shipping_option_price          0\n",
       "shipping_is_express            0\n",
       "countries_shipped_to           0\n",
       "inventory_total                0\n",
       "has_urgency_banner             0\n",
       "merchant_title                 0\n",
       "merchant_rating_count          0\n",
       "merchant_rating                0\n",
       "merchant_id                    0\n",
       "theme                          0\n",
       "crawl_month                    0\n",
       "id                             0\n",
       "dtype: int64"
      ]
     },
     "execution_count": 334,
     "metadata": {},
     "output_type": "execute_result"
    }
   ],
   "source": [
    "df.isna().sum()"
   ]
  },
  {
   "cell_type": "markdown",
   "metadata": {},
   "source": [
    "**Great news!** 🎉 Thanks to my efforts, i've successfully handled all the null values in our dataset. Now, we can proceed with our analysis without any missing data holding us back. Let's continue exploring and drawing insights from our clean dataset! 💃💃"
   ]
  },
  {
   "cell_type": "code",
   "execution_count": 335,
   "metadata": {
    "execution": {
     "iopub.execute_input": "2024-03-21T14:01:00.353494Z",
     "iopub.status.busy": "2024-03-21T14:01:00.353092Z",
     "iopub.status.idle": "2024-03-21T14:01:00.367110Z",
     "shell.execute_reply": "2024-03-21T14:01:00.365979Z",
     "shell.execute_reply.started": "2024-03-21T14:01:00.353465Z"
    }
   },
   "outputs": [
    {
     "data": {
      "text/plain": [
       "0"
      ]
     },
     "execution_count": 335,
     "metadata": {},
     "output_type": "execute_result"
    }
   ],
   "source": [
    "#let's see the duplicated values\n",
    "df.duplicated().sum()"
   ]
  },
  {
   "cell_type": "code",
   "execution_count": 336,
   "metadata": {
    "execution": {
     "iopub.execute_input": "2024-03-21T14:01:11.232507Z",
     "iopub.status.busy": "2024-03-21T14:01:11.232007Z",
     "iopub.status.idle": "2024-03-21T14:01:11.295005Z",
     "shell.execute_reply": "2024-03-21T14:01:11.293312Z",
     "shell.execute_reply.started": "2024-03-21T14:01:11.232472Z"
    }
   },
   "outputs": [
    {
     "data": {
      "text/html": [
       "<div>\n",
       "<style scoped>\n",
       "    .dataframe tbody tr th:only-of-type {\n",
       "        vertical-align: middle;\n",
       "    }\n",
       "\n",
       "    .dataframe tbody tr th {\n",
       "        vertical-align: top;\n",
       "    }\n",
       "\n",
       "    .dataframe thead th {\n",
       "        text-align: right;\n",
       "    }\n",
       "</style>\n",
       "<table border=\"1\" class=\"dataframe\">\n",
       "  <thead>\n",
       "    <tr style=\"text-align: right;\">\n",
       "      <th></th>\n",
       "      <th>price</th>\n",
       "      <th>retail_price</th>\n",
       "      <th>units_sold</th>\n",
       "      <th>uses_ad_boosts</th>\n",
       "      <th>rating</th>\n",
       "      <th>rating_count</th>\n",
       "      <th>badges_count</th>\n",
       "      <th>badge_local_product</th>\n",
       "      <th>badge_product_quality</th>\n",
       "      <th>badge_fast_shipping</th>\n",
       "      <th>product_variation_inventory</th>\n",
       "      <th>shipping_option_price</th>\n",
       "      <th>shipping_is_express</th>\n",
       "      <th>countries_shipped_to</th>\n",
       "      <th>inventory_total</th>\n",
       "      <th>has_urgency_banner</th>\n",
       "      <th>merchant_rating_count</th>\n",
       "      <th>merchant_rating</th>\n",
       "      <th>id</th>\n",
       "    </tr>\n",
       "  </thead>\n",
       "  <tbody>\n",
       "    <tr>\n",
       "      <th>count</th>\n",
       "      <td>1094.000000</td>\n",
       "      <td>1094.000000</td>\n",
       "      <td>1094.000000</td>\n",
       "      <td>1094.000000</td>\n",
       "      <td>1094.000000</td>\n",
       "      <td>1094.000000</td>\n",
       "      <td>1094.000000</td>\n",
       "      <td>1094.000000</td>\n",
       "      <td>1094.000000</td>\n",
       "      <td>1094.000000</td>\n",
       "      <td>1094.000000</td>\n",
       "      <td>1094.000000</td>\n",
       "      <td>1094.000000</td>\n",
       "      <td>1094.000000</td>\n",
       "      <td>1094.000000</td>\n",
       "      <td>1094.000000</td>\n",
       "      <td>1.094000e+03</td>\n",
       "      <td>1094.000000</td>\n",
       "      <td>1094.000000</td>\n",
       "    </tr>\n",
       "    <tr>\n",
       "      <th>mean</th>\n",
       "      <td>8.320786</td>\n",
       "      <td>23.712066</td>\n",
       "      <td>4518.661792</td>\n",
       "      <td>0.432358</td>\n",
       "      <td>4.006399</td>\n",
       "      <td>915.523766</td>\n",
       "      <td>0.114260</td>\n",
       "      <td>0.019196</td>\n",
       "      <td>0.083181</td>\n",
       "      <td>0.011883</td>\n",
       "      <td>32.807130</td>\n",
       "      <td>2.344607</td>\n",
       "      <td>0.002742</td>\n",
       "      <td>40.484461</td>\n",
       "      <td>49.849177</td>\n",
       "      <td>0.319013</td>\n",
       "      <td>2.678399e+04</td>\n",
       "      <td>4.036191</td>\n",
       "      <td>772.207495</td>\n",
       "    </tr>\n",
       "    <tr>\n",
       "      <th>std</th>\n",
       "      <td>4.027448</td>\n",
       "      <td>31.802661</td>\n",
       "      <td>9825.608568</td>\n",
       "      <td>0.495630</td>\n",
       "      <td>0.585706</td>\n",
       "      <td>2037.561158</td>\n",
       "      <td>0.348461</td>\n",
       "      <td>0.137275</td>\n",
       "      <td>0.276282</td>\n",
       "      <td>0.108409</td>\n",
       "      <td>21.454655</td>\n",
       "      <td>1.044781</td>\n",
       "      <td>0.052318</td>\n",
       "      <td>20.196229</td>\n",
       "      <td>2.480687</td>\n",
       "      <td>0.466307</td>\n",
       "      <td>8.616171e+04</td>\n",
       "      <td>0.200397</td>\n",
       "      <td>453.784430</td>\n",
       "    </tr>\n",
       "    <tr>\n",
       "      <th>min</th>\n",
       "      <td>1.000000</td>\n",
       "      <td>2.000000</td>\n",
       "      <td>1.000000</td>\n",
       "      <td>0.000000</td>\n",
       "      <td>1.000000</td>\n",
       "      <td>0.000000</td>\n",
       "      <td>0.000000</td>\n",
       "      <td>0.000000</td>\n",
       "      <td>0.000000</td>\n",
       "      <td>0.000000</td>\n",
       "      <td>1.000000</td>\n",
       "      <td>1.000000</td>\n",
       "      <td>0.000000</td>\n",
       "      <td>8.000000</td>\n",
       "      <td>1.000000</td>\n",
       "      <td>0.000000</td>\n",
       "      <td>4.000000e+00</td>\n",
       "      <td>2.941176</td>\n",
       "      <td>2.000000</td>\n",
       "    </tr>\n",
       "    <tr>\n",
       "      <th>25%</th>\n",
       "      <td>5.830000</td>\n",
       "      <td>7.000000</td>\n",
       "      <td>100.000000</td>\n",
       "      <td>0.000000</td>\n",
       "      <td>4.000000</td>\n",
       "      <td>24.000000</td>\n",
       "      <td>0.000000</td>\n",
       "      <td>0.000000</td>\n",
       "      <td>0.000000</td>\n",
       "      <td>0.000000</td>\n",
       "      <td>6.000000</td>\n",
       "      <td>2.000000</td>\n",
       "      <td>0.000000</td>\n",
       "      <td>31.000000</td>\n",
       "      <td>50.000000</td>\n",
       "      <td>0.000000</td>\n",
       "      <td>1.926000e+03</td>\n",
       "      <td>3.918464</td>\n",
       "      <td>382.250000</td>\n",
       "    </tr>\n",
       "    <tr>\n",
       "      <th>50%</th>\n",
       "      <td>8.000000</td>\n",
       "      <td>10.000000</td>\n",
       "      <td>1000.000000</td>\n",
       "      <td>0.000000</td>\n",
       "      <td>4.000000</td>\n",
       "      <td>143.500000</td>\n",
       "      <td>0.000000</td>\n",
       "      <td>0.000000</td>\n",
       "      <td>0.000000</td>\n",
       "      <td>0.000000</td>\n",
       "      <td>50.000000</td>\n",
       "      <td>2.000000</td>\n",
       "      <td>0.000000</td>\n",
       "      <td>40.000000</td>\n",
       "      <td>50.000000</td>\n",
       "      <td>0.000000</td>\n",
       "      <td>8.225000e+03</td>\n",
       "      <td>4.045170</td>\n",
       "      <td>752.500000</td>\n",
       "    </tr>\n",
       "    <tr>\n",
       "      <th>75%</th>\n",
       "      <td>11.000000</td>\n",
       "      <td>26.000000</td>\n",
       "      <td>5000.000000</td>\n",
       "      <td>1.000000</td>\n",
       "      <td>4.000000</td>\n",
       "      <td>845.500000</td>\n",
       "      <td>0.000000</td>\n",
       "      <td>0.000000</td>\n",
       "      <td>0.000000</td>\n",
       "      <td>0.000000</td>\n",
       "      <td>50.000000</td>\n",
       "      <td>3.000000</td>\n",
       "      <td>0.000000</td>\n",
       "      <td>43.000000</td>\n",
       "      <td>50.000000</td>\n",
       "      <td>1.000000</td>\n",
       "      <td>2.306200e+04</td>\n",
       "      <td>4.166826</td>\n",
       "      <td>1166.500000</td>\n",
       "    </tr>\n",
       "    <tr>\n",
       "      <th>max</th>\n",
       "      <td>49.000000</td>\n",
       "      <td>252.000000</td>\n",
       "      <td>100000.000000</td>\n",
       "      <td>1.000000</td>\n",
       "      <td>6.000000</td>\n",
       "      <td>20744.000000</td>\n",
       "      <td>3.000000</td>\n",
       "      <td>1.000000</td>\n",
       "      <td>1.000000</td>\n",
       "      <td>1.000000</td>\n",
       "      <td>50.000000</td>\n",
       "      <td>12.000000</td>\n",
       "      <td>1.000000</td>\n",
       "      <td>140.000000</td>\n",
       "      <td>50.000000</td>\n",
       "      <td>1.000000</td>\n",
       "      <td>2.174765e+06</td>\n",
       "      <td>4.577519</td>\n",
       "      <td>1572.000000</td>\n",
       "    </tr>\n",
       "  </tbody>\n",
       "</table>\n",
       "</div>"
      ],
      "text/plain": [
       "             price  retail_price     units_sold  uses_ad_boosts       rating  \\\n",
       "count  1094.000000   1094.000000    1094.000000     1094.000000  1094.000000   \n",
       "mean      8.320786     23.712066    4518.661792        0.432358     4.006399   \n",
       "std       4.027448     31.802661    9825.608568        0.495630     0.585706   \n",
       "min       1.000000      2.000000       1.000000        0.000000     1.000000   \n",
       "25%       5.830000      7.000000     100.000000        0.000000     4.000000   \n",
       "50%       8.000000     10.000000    1000.000000        0.000000     4.000000   \n",
       "75%      11.000000     26.000000    5000.000000        1.000000     4.000000   \n",
       "max      49.000000    252.000000  100000.000000        1.000000     6.000000   \n",
       "\n",
       "       rating_count  badges_count  badge_local_product  badge_product_quality  \\\n",
       "count   1094.000000   1094.000000          1094.000000            1094.000000   \n",
       "mean     915.523766      0.114260             0.019196               0.083181   \n",
       "std     2037.561158      0.348461             0.137275               0.276282   \n",
       "min        0.000000      0.000000             0.000000               0.000000   \n",
       "25%       24.000000      0.000000             0.000000               0.000000   \n",
       "50%      143.500000      0.000000             0.000000               0.000000   \n",
       "75%      845.500000      0.000000             0.000000               0.000000   \n",
       "max    20744.000000      3.000000             1.000000               1.000000   \n",
       "\n",
       "       badge_fast_shipping  product_variation_inventory  \\\n",
       "count          1094.000000                  1094.000000   \n",
       "mean              0.011883                    32.807130   \n",
       "std               0.108409                    21.454655   \n",
       "min               0.000000                     1.000000   \n",
       "25%               0.000000                     6.000000   \n",
       "50%               0.000000                    50.000000   \n",
       "75%               0.000000                    50.000000   \n",
       "max               1.000000                    50.000000   \n",
       "\n",
       "       shipping_option_price  shipping_is_express  countries_shipped_to  \\\n",
       "count            1094.000000          1094.000000           1094.000000   \n",
       "mean                2.344607             0.002742             40.484461   \n",
       "std                 1.044781             0.052318             20.196229   \n",
       "min                 1.000000             0.000000              8.000000   \n",
       "25%                 2.000000             0.000000             31.000000   \n",
       "50%                 2.000000             0.000000             40.000000   \n",
       "75%                 3.000000             0.000000             43.000000   \n",
       "max                12.000000             1.000000            140.000000   \n",
       "\n",
       "       inventory_total  has_urgency_banner  merchant_rating_count  \\\n",
       "count      1094.000000         1094.000000           1.094000e+03   \n",
       "mean         49.849177            0.319013           2.678399e+04   \n",
       "std           2.480687            0.466307           8.616171e+04   \n",
       "min           1.000000            0.000000           4.000000e+00   \n",
       "25%          50.000000            0.000000           1.926000e+03   \n",
       "50%          50.000000            0.000000           8.225000e+03   \n",
       "75%          50.000000            1.000000           2.306200e+04   \n",
       "max          50.000000            1.000000           2.174765e+06   \n",
       "\n",
       "       merchant_rating           id  \n",
       "count      1094.000000  1094.000000  \n",
       "mean          4.036191   772.207495  \n",
       "std           0.200397   453.784430  \n",
       "min           2.941176     2.000000  \n",
       "25%           3.918464   382.250000  \n",
       "50%           4.045170   752.500000  \n",
       "75%           4.166826  1166.500000  \n",
       "max           4.577519  1572.000000  "
      ]
     },
     "execution_count": 336,
     "metadata": {},
     "output_type": "execute_result"
    }
   ],
   "source": [
    "# statistical description of our data \n",
    "df.describe()"
   ]
  },
  {
   "cell_type": "code",
   "execution_count": 337,
   "metadata": {
    "execution": {
     "iopub.execute_input": "2024-03-21T14:01:22.519978Z",
     "iopub.status.busy": "2024-03-21T14:01:22.519514Z",
     "iopub.status.idle": "2024-03-21T14:01:22.528751Z",
     "shell.execute_reply": "2024-03-21T14:01:22.527318Z",
     "shell.execute_reply.started": "2024-03-21T14:01:22.519945Z"
    }
   },
   "outputs": [
    {
     "data": {
      "text/plain": [
       "array([4., 3., 5., 2., 1., 6.])"
      ]
     },
     "execution_count": 337,
     "metadata": {},
     "output_type": "execute_result"
    }
   ],
   "source": [
    "# unique values in rating column\n",
    "df['rating'].unique()"
   ]
  },
  {
   "cell_type": "code",
   "execution_count": 338,
   "metadata": {
    "execution": {
     "iopub.execute_input": "2024-03-21T14:01:25.050006Z",
     "iopub.status.busy": "2024-03-21T14:01:25.049583Z",
     "iopub.status.idle": "2024-03-21T14:01:25.060571Z",
     "shell.execute_reply": "2024-03-21T14:01:25.059003Z",
     "shell.execute_reply.started": "2024-03-21T14:01:25.049972Z"
    }
   },
   "outputs": [
    {
     "data": {
      "text/plain": [
       "rating\n",
       "4.0    774\n",
       "5.0    170\n",
       "3.0    135\n",
       "2.0     12\n",
       "1.0      2\n",
       "6.0      1\n",
       "Name: count, dtype: int64"
      ]
     },
     "execution_count": 338,
     "metadata": {},
     "output_type": "execute_result"
    }
   ],
   "source": [
    "df[\"rating\"].value_counts()"
   ]
  },
  {
   "cell_type": "code",
   "execution_count": 339,
   "metadata": {
    "execution": {
     "iopub.execute_input": "2024-03-21T14:01:30.829479Z",
     "iopub.status.busy": "2024-03-21T14:01:30.828952Z",
     "iopub.status.idle": "2024-03-21T14:01:31.091469Z",
     "shell.execute_reply": "2024-03-21T14:01:31.090338Z",
     "shell.execute_reply.started": "2024-03-21T14:01:30.829441Z"
    }
   },
   "outputs": [
    {
     "data": {
      "text/plain": [
       "<Axes: xlabel='rating'>"
      ]
     },
     "execution_count": 339,
     "metadata": {},
     "output_type": "execute_result"
    },
    {
     "data": {
      "image/png": "[encoded data removed]",
      "text/plain": [
       "<Figure size 640x480 with 1 Axes>"
      ]
     },
     "metadata": {},
     "output_type": "display_data"
    }
   ],
   "source": [
    "#ploting the value counts of rating column\n",
    "df[\"rating\"].value_counts().plot(kind='bar')"
   ]
  },
  {
   "cell_type": "markdown",
   "metadata": {},
   "source": [
    "The ratings in our dataset mostly fall within the range of 3.0, 4.0, and 5.0. However, we expect ratings to span from 1.0 to 5.0, as stated in the competition overview. To address this, we need to gather more data to ensure a wider representation of ratings across the entire spectrum.  "
   ]
  },
  {
   "cell_type": "code",
   "execution_count": 383,
   "metadata": {
    "execution": {
     "iopub.execute_input": "2024-03-21T14:33:25.291531Z",
     "iopub.status.busy": "2024-03-21T14:33:25.290955Z",
     "iopub.status.idle": "2024-03-21T14:33:25.309877Z",
     "shell.execute_reply": "2024-03-21T14:33:25.308749Z",
     "shell.execute_reply.started": "2024-03-21T14:33:25.291493Z"
    }
   },
   "outputs": [
    {
     "data": {
      "text/plain": [
       "rating\n",
       "4.0    774\n",
       "5.0    170\n",
       "3.0    135\n",
       "2.0     12\n",
       "1.0      2\n",
       "Name: count, dtype: int64"
      ]
     },
     "execution_count": 383,
     "metadata": {},
     "output_type": "execute_result"
    }
   ],
   "source": [
    "#we need to drop the value of ratting which equle to 6\n",
    "d = df[df['rating'] == 6.0]\n",
    "df.drop(d.index, inplace=True)\n",
    "df['rating'].value_counts()"
   ]
  },
  {
   "cell_type": "code",
   "execution_count": 343,
   "metadata": {
    "execution": {
     "iopub.execute_input": "2024-03-21T14:02:24.100323Z",
     "iopub.status.busy": "2024-03-21T14:02:24.099736Z",
     "iopub.status.idle": "2024-03-21T14:02:24.111025Z",
     "shell.execute_reply": "2024-03-21T14:02:24.109714Z",
     "shell.execute_reply.started": "2024-03-21T14:02:24.100279Z"
    }
   },
   "outputs": [
    {
     "data": {
      "text/plain": [
       "array([4., 3., 5., 2., 1.])"
      ]
     },
     "execution_count": 343,
     "metadata": {},
     "output_type": "execute_result"
    }
   ],
   "source": [
    "df['rating'].unique()"
   ]
  },
  {
   "cell_type": "code",
   "execution_count": 344,
   "metadata": {
    "execution": {
     "iopub.execute_input": "2024-03-21T14:02:29.480137Z",
     "iopub.status.busy": "2024-03-21T14:02:29.479700Z",
     "iopub.status.idle": "2024-03-21T14:02:29.488887Z",
     "shell.execute_reply": "2024-03-21T14:02:29.487763Z",
     "shell.execute_reply.started": "2024-03-21T14:02:29.480105Z"
    }
   },
   "outputs": [
    {
     "data": {
      "text/plain": [
       "array([ 8.  ,  6.  ,  4.67, 14.  ,  3.67,  9.  , 19.  , 12.  ,  5.74,\n",
       "       13.  , 11.  , 18.  ,  5.  ,  2.  , 15.  ,  3.  ,  5.91,  1.72,\n",
       "        7.  ,  3.81, 16.  ,  1.74,  5.83,  5.79,  1.66,  5.65,  5.87,\n",
       "        4.68,  5.9 ,  4.81,  1.77,  5.66, 22.  ,  4.66,  3.73,  3.91,\n",
       "        5.73,  3.94,  3.69,  1.86,  1.88,  2.83,  4.93,  2.81,  5.84,\n",
       "        3.7 ,  3.71, 17.  ,  1.  ,  5.81,  4.84,  4.  ,  5.95,  5.77,\n",
       "        4.83,  3.83,  1.7 ,  3.86,  1.76,  5.86,  5.85,  3.88,  5.69,\n",
       "        5.72,  1.89,  4.9 ,  2.71,  3.72,  5.75,  3.92,  3.66,  2.67,\n",
       "        5.71,  5.8 ,  3.93,  3.68,  2.76,  5.82,  3.85, 25.  ,  5.7 ,\n",
       "        3.76,  3.9 ,  2.72,  4.69, 27.  ,  5.67,  2.89,  4.86,  4.94,\n",
       "        1.84,  2.66,  4.74,  3.74,  1.75,  5.78,  2.9 ,  5.88,  5.68,\n",
       "        3.87,  1.91, 23.  ,  2.65,  3.65,  5.89,  1.68,  4.65,  1.85,\n",
       "       26.  , 20.  , 24.  ,  5.92,  2.8 ,  2.69,  1.8 ,  4.73])"
      ]
     },
     "execution_count": 344,
     "metadata": {},
     "output_type": "execute_result"
    }
   ],
   "source": [
    "#the unique values of price column\n",
    "df['price'].unique()"
   ]
  },
  {
   "cell_type": "code",
   "execution_count": 345,
   "metadata": {
    "execution": {
     "iopub.execute_input": "2024-03-21T14:02:34.917673Z",
     "iopub.status.busy": "2024-03-21T14:02:34.917254Z",
     "iopub.status.idle": "2024-03-21T14:02:35.276254Z",
     "shell.execute_reply": "2024-03-21T14:02:35.274686Z",
     "shell.execute_reply.started": "2024-03-21T14:02:34.917641Z"
    }
   },
   "outputs": [
    {
     "name": "stderr",
     "output_type": "stream",
     "text": [
      "/opt/conda/lib/python3.10/site-packages/seaborn/_oldcore.py:1119: FutureWarning:\n",
      "\n",
      "use_inf_as_na option is deprecated and will be removed in a future version. Convert inf values to NaN before operating instead.\n",
      "\n"
     ]
    },
    {
     "data": {
      "text/plain": [
       "<Axes: xlabel='price', ylabel='Count'>"
      ]
     },
     "execution_count": 345,
     "metadata": {},
     "output_type": "execute_result"
    },
    {
     "data": {
      "image/png": "[encoded data removed]",
      "text/plain": [
       "<Figure size 640x480 with 1 Axes>"
      ]
     },
     "metadata": {},
     "output_type": "display_data"
    }
   ],
   "source": [
    "import seaborn as sns\n",
    "\n",
    "# Plot histogram for a price column\n",
    "sns.histplot(data=df, x='price', kde=True)"
   ]
  },
  {
   "cell_type": "markdown",
   "metadata": {},
   "source": [
    "We have some outlires in price column"
   ]
  },
  {
   "cell_type": "code",
   "execution_count": 346,
   "metadata": {
    "execution": {
     "iopub.execute_input": "2024-03-21T14:02:39.981588Z",
     "iopub.status.busy": "2024-03-21T14:02:39.981159Z",
     "iopub.status.idle": "2024-03-21T14:02:39.990503Z",
     "shell.execute_reply": "2024-03-21T14:02:39.988957Z",
     "shell.execute_reply.started": "2024-03-21T14:02:39.981558Z"
    }
   },
   "outputs": [
    {
     "data": {
      "text/plain": [
       "array([  7,  34,   4,  11,  51,   9,   8,  21,   5,  10,  16,  15,   6,\n",
       "        38,   2,  13,   3,  87,  17,  26,  59, 152,  43, 115,  25,  56,\n",
       "       107,  31,  42,  50,  68,  70,  60,  22,  75,  76, 102,  20, 159,\n",
       "        14,  19, 104,  72,  30, 169,  84,  27,  12,  85,  33, 106,  53,\n",
       "        23,  54,  88,  58,  47,  67, 252,  37,  18,  48, 139,  65,  29,\n",
       "        81, 118, 108,  49,  93, 110,  97, 168,  40,  36,  32, 140, 101,\n",
       "       250,  41,  66, 135,  69,  55,  92, 122, 134, 127, 145,  24,  28,\n",
       "       111,  89, 105,  57])"
      ]
     },
     "execution_count": 346,
     "metadata": {},
     "output_type": "execute_result"
    }
   ],
   "source": [
    "#unique values of retail price\n",
    "df['retail_price'].unique()"
   ]
  },
  {
   "cell_type": "code",
   "execution_count": 347,
   "metadata": {
    "execution": {
     "iopub.execute_input": "2024-03-21T14:02:44.384942Z",
     "iopub.status.busy": "2024-03-21T14:02:44.384087Z",
     "iopub.status.idle": "2024-03-21T14:02:44.825710Z",
     "shell.execute_reply": "2024-03-21T14:02:44.824377Z",
     "shell.execute_reply.started": "2024-03-21T14:02:44.384895Z"
    }
   },
   "outputs": [
    {
     "name": "stderr",
     "output_type": "stream",
     "text": [
      "/opt/conda/lib/python3.10/site-packages/seaborn/_oldcore.py:1119: FutureWarning:\n",
      "\n",
      "use_inf_as_na option is deprecated and will be removed in a future version. Convert inf values to NaN before operating instead.\n",
      "\n"
     ]
    },
    {
     "data": {
      "text/plain": [
       "<Axes: xlabel='retail_price', ylabel='Count'>"
      ]
     },
     "execution_count": 347,
     "metadata": {},
     "output_type": "execute_result"
    },
    {
     "data": {
      "image/png": "[encoded data removed]",
      "text/plain": [
       "<Figure size 640x480 with 1 Axes>"
      ]
     },
     "metadata": {},
     "output_type": "display_data"
    }
   ],
   "source": [
    "import seaborn as sns\n",
    "\n",
    "# Plot histogram for a retail price column\n",
    "sns.histplot(data=df, x='retail_price', kde=True)"
   ]
  },
  {
   "cell_type": "markdown",
   "metadata": {},
   "source": [
    "**we** can see that the retail price distribution is positively skewed with the appearance of some outliers which we need to deal with. we may need to transform this column using log transform."
   ]
  },
  {
   "cell_type": "code",
   "execution_count": 348,
   "metadata": {
    "execution": {
     "iopub.execute_input": "2024-03-21T14:02:51.916658Z",
     "iopub.status.busy": "2024-03-21T14:02:51.916115Z",
     "iopub.status.idle": "2024-03-21T14:02:51.931468Z",
     "shell.execute_reply": "2024-03-21T14:02:51.929181Z",
     "shell.execute_reply.started": "2024-03-21T14:02:51.916617Z"
    }
   },
   "outputs": [
    {
     "name": "stdout",
     "output_type": "stream",
     "text": [
      "Outliers: 21       87\n",
      "30       59\n",
      "34      152\n",
      "43      115\n",
      "46       56\n",
      "       ... \n",
      "1010     72\n",
      "1016    134\n",
      "1036     68\n",
      "1056     85\n",
      "1066     59\n",
      "Name: retail_price, Length: 148, dtype: int64\n"
     ]
    }
   ],
   "source": [
    "column = df['retail_price']\n",
    "\n",
    "# Calculate the first quartile (Q1)\n",
    "Q1 = np.percentile(column, 25)\n",
    "\n",
    "# Calculate the third quartile (Q3)\n",
    "Q3 = np.percentile(column, 75)\n",
    "\n",
    "# Calculate the interquartile range (IQR)\n",
    "IQR = Q3 - Q1\n",
    "\n",
    "# Define the lower and upper bounds for outliers detection\n",
    "lower_bound = Q1 - 1.5 * IQR\n",
    "upper_bound = Q3 + 1.5 * IQR\n",
    "\n",
    "# Detect outliers\n",
    "outliers = column[(column < lower_bound) | (column > upper_bound)]\n",
    "\n",
    "# Print the outliers\n",
    "print(\"Outliers:\", outliers)"
   ]
  },
  {
   "cell_type": "markdown",
   "metadata": {},
   "source": [
    "we have some outlires in retail price column"
   ]
  },
  {
   "cell_type": "code",
   "execution_count": 384,
   "metadata": {
    "execution": {
     "iopub.execute_input": "2024-03-21T14:38:06.068650Z",
     "iopub.status.busy": "2024-03-21T14:38:06.068104Z",
     "iopub.status.idle": "2024-03-21T14:38:06.076785Z",
     "shell.execute_reply": "2024-03-21T14:38:06.074990Z",
     "shell.execute_reply.started": "2024-03-21T14:38:06.068616Z"
    }
   },
   "outputs": [],
   "source": [
    "def retail_price_outlier(x):\n",
    "    if x <= 1.94:\n",
    "        return 2.0\n",
    "    elif x>=108.00:\n",
    "        return 108.00\n",
    "    else:\n",
    "        return x"
   ]
  },
  {
   "cell_type": "code",
   "execution_count": 385,
   "metadata": {
    "execution": {
     "iopub.execute_input": "2024-03-21T14:38:12.004167Z",
     "iopub.status.busy": "2024-03-21T14:38:12.003745Z",
     "iopub.status.idle": "2024-03-21T14:38:12.357675Z",
     "shell.execute_reply": "2024-03-21T14:38:12.356383Z",
     "shell.execute_reply.started": "2024-03-21T14:38:12.004137Z"
    }
   },
   "outputs": [
    {
     "name": "stderr",
     "output_type": "stream",
     "text": [
      "/opt/conda/lib/python3.10/site-packages/seaborn/_oldcore.py:1119: FutureWarning:\n",
      "\n",
      "use_inf_as_na option is deprecated and will be removed in a future version. Convert inf values to NaN before operating instead.\n",
      "\n"
     ]
    },
    {
     "data": {
      "text/plain": [
       "<Axes: xlabel='retail_price', ylabel='Count'>"
      ]
     },
     "execution_count": 385,
     "metadata": {},
     "output_type": "execute_result"
    },
    {
     "data": {
      "image/png": "[encoded data removed]",
      "text/plain": [
       "<Figure size 640x480 with 1 Axes>"
      ]
     },
     "metadata": {},
     "output_type": "display_data"
    }
   ],
   "source": [
    "# first clip the outliers to certain value this transform the values using log transform\n",
    "df['retail_price']=df['retail_price'].apply(retail_price_outlier)\n",
    "df['retail_price']=np.log(df['retail_price'])\n",
    "sns.histplot(data=df,x='retail_price',kde=True)"
   ]
  },
  {
   "cell_type": "code",
   "execution_count": 351,
   "metadata": {
    "execution": {
     "iopub.execute_input": "2024-03-21T14:03:28.664138Z",
     "iopub.status.busy": "2024-03-21T14:03:28.663685Z",
     "iopub.status.idle": "2024-03-21T14:03:28.674825Z",
     "shell.execute_reply": "2024-03-21T14:03:28.673400Z",
     "shell.execute_reply.started": "2024-03-21T14:03:28.664106Z"
    }
   },
   "outputs": [
    {
     "data": {
      "text/plain": [
       "array(['EUR'], dtype=object)"
      ]
     },
     "execution_count": 351,
     "metadata": {},
     "output_type": "execute_result"
    }
   ],
   "source": [
    "# unique values of currency buyer\n",
    "df['currency_buyer'].unique()"
   ]
  },
  {
   "cell_type": "markdown",
   "metadata": {},
   "source": [
    "as we see the currency buyer column has only one value So let's drop it"
   ]
  },
  {
   "cell_type": "code",
   "execution_count": 386,
   "metadata": {
    "execution": {
     "iopub.execute_input": "2024-03-21T14:42:05.029696Z",
     "iopub.status.busy": "2024-03-21T14:42:05.029156Z",
     "iopub.status.idle": "2024-03-21T14:42:05.039065Z",
     "shell.execute_reply": "2024-03-21T14:42:05.037663Z",
     "shell.execute_reply.started": "2024-03-21T14:42:05.029658Z"
    }
   },
   "outputs": [],
   "source": [
    "# drop currency buyer column\n",
    "df.drop(columns=['currency_buyer'],inplace=True)"
   ]
  },
  {
   "cell_type": "code",
   "execution_count": 387,
   "metadata": {
    "execution": {
     "iopub.execute_input": "2024-03-21T14:42:16.612149Z",
     "iopub.status.busy": "2024-03-21T14:42:16.611520Z",
     "iopub.status.idle": "2024-03-21T14:42:16.620194Z",
     "shell.execute_reply": "2024-03-21T14:42:16.619240Z",
     "shell.execute_reply.started": "2024-03-21T14:42:16.612100Z"
    }
   },
   "outputs": [
    {
     "data": {
      "text/plain": [
       "Index(['price', 'retail_price', 'units_sold', 'uses_ad_boosts', 'rating',\n",
       "       'rating_count', 'badges_count', 'badge_local_product',\n",
       "       'badge_product_quality', 'badge_fast_shipping', 'tags',\n",
       "       'product_variation_inventory', 'shipping_option_name',\n",
       "       'shipping_option_price', 'shipping_is_express', 'countries_shipped_to',\n",
       "       'inventory_total', 'has_urgency_banner', 'merchant_title',\n",
       "       'merchant_rating_count', 'merchant_rating', 'merchant_id', 'theme',\n",
       "       'crawl_month', 'id'],\n",
       "      dtype='object')"
      ]
     },
     "execution_count": 387,
     "metadata": {},
     "output_type": "execute_result"
    }
   ],
   "source": [
    "df.columns"
   ]
  },
  {
   "cell_type": "code",
   "execution_count": null,
   "metadata": {},
   "outputs": [],
   "source": [
    "df['product_variation_size_id'].unique()"
   ]
  },
  {
   "cell_type": "code",
   "execution_count": 388,
   "metadata": {
    "execution": {
     "iopub.execute_input": "2024-03-21T14:42:28.626017Z",
     "iopub.status.busy": "2024-03-21T14:42:28.625511Z",
     "iopub.status.idle": "2024-03-21T14:42:28.635247Z",
     "shell.execute_reply": "2024-03-21T14:42:28.633738Z",
     "shell.execute_reply.started": "2024-03-21T14:42:28.625978Z"
    }
   },
   "outputs": [],
   "source": [
    "numical_columns = df[['price', 'retail_price', 'units_sold', 'uses_ad_boosts', 'rating',\n",
    "       'rating_count', 'badges_count', 'badge_local_product',\n",
    "       'badge_product_quality', 'badge_fast_shipping',\n",
    "       'product_variation_inventory',\n",
    "       'shipping_option_price', 'shipping_is_express',\n",
    "       'countries_shipped_to', 'inventory_total', 'has_urgency_banner',\n",
    "       'merchant_rating_count', 'merchant_rating']]"
   ]
  },
  {
   "cell_type": "code",
   "execution_count": 389,
   "metadata": {
    "execution": {
     "iopub.execute_input": "2024-03-21T14:42:38.596281Z",
     "iopub.status.busy": "2024-03-21T14:42:38.595851Z",
     "iopub.status.idle": "2024-03-21T14:42:38.665102Z",
     "shell.execute_reply": "2024-03-21T14:42:38.663951Z",
     "shell.execute_reply.started": "2024-03-21T14:42:38.596249Z"
    }
   },
   "outputs": [
    {
     "data": {
      "text/html": [
       "<div>                            <div id=\"a65a547f-b668-47cc-8957-e9ee9a8a2e0a\" class=\"plotly-graph-div\" style=\"height:525px; width:100%;\"></div>            <script type=\"text/javascript\">                require([\"plotly\"], function(Plotly) {                    window.PLOTLYENV=window.PLOTLYENV || {};                                    if (document.getElementById(\"a65a547f-b668-47cc-8957-e9ee9a8a2e0a\")) {                    Plotly.newPlot(                        \"a65a547f-b668-47cc-8957-e9ee9a8a2e0a\",                        [{\"coloraxis\":\"coloraxis\",\"name\":\"0\",\"x\":[\"price\",\"retail_price\",\"units_sold\",\"uses_ad_boosts\",\"rating\",\"rating_count\",\"badges_count\",\"badge_local_product\",\"badge_product_quality\",\"badge_fast_shipping\",\"product_variation_inventory\",\"shipping_option_price\",\"shipping_is_express\",\"countries_shipped_to\",\"inventory_total\",\"has_urgency_banner\",\"merchant_rating_count\",\"merchant_rating\"],\"y\":[\"price\",\"retail_price\",\"units_sold\",\"uses_ad_boosts\",\"rating\",\"rating_count\",\"badges_count\",\"badge_local_product\",\"badge_product_quality\",\"badge_fast_shipping\",\"product_variation_inventory\",\"shipping_option_price\",\"shipping_is_express\",\"countries_shipped_to\",\"inventory_total\",\"has_urgency_banner\",\"merchant_rating_count\",\"merchant_rating\"],\"z\":[[1.0,0.4670772469658024,-0.00433244786530616,-0.04760498190654503,0.20552293354073714,0.017297499529642615,0.06624662217624679,0.09471489993454646,0.025938539555519634,0.02733169016631666,0.30105078744751707,0.8772792965193511,0.041495111475326175,-0.036055536020161594,0.001058648410805666,null,-0.024358094399627574,0.06073781136061188],[0.4670772469658024,1.0,0.020333571369769047,-0.04400181207184607,0.10562309500185417,0.05251041996496699,0.014559049135147028,0.028720259304929087,-0.012287742264235856,0.04328478746284446,0.216026972199892,0.4085016040335954,-0.012054745351338885,0.04178136169712518,0.025639403195582618,null,-0.020362494422598708,0.005530510770630839],[-0.00433244786530616,0.020333571369769047,1.0,-0.018526597548619756,0.013202574883568425,0.8919187823589997,0.04395398951182879,-0.001612372154598911,0.04983107019419147,0.01655751646114131,0.13680413703754865,-0.017083109581487753,-0.01731289294364591,-0.017352313666440904,-0.02112806050338126,null,0.22857684672654946,0.12119413054836979],[-0.04760498190654503,-0.04400181207184607,-0.018526597548619756,1.0,-0.04489406672144563,-0.05103221740162434,0.023059479099389785,0.05262647016210816,-0.009228014488821405,0.03202117136968944,-0.09339712780369648,-0.051215353549746906,0.0058111695454056075,0.014910286713562228,0.0216654027956733,null,0.031213676026190455,0.03514958133367713],[0.20552293354073714,0.10562309500185417,0.013202574883568425,-0.04489406672144563,1.0,0.026880502339825432,0.22796257589799654,0.010341088543339289,0.27616756682724075,0.014243384678807277,0.053251780713231125,0.18211003463448971,-0.00033619324186230225,0.024616694561676557,-0.0697521131075916,null,0.052877543843370095,0.21458908871551557],[0.017297499529642615,0.05251041996496699,0.8919187823589997,-0.05103221740162434,0.026880502339825432,1.0,0.07917683192759417,0.002059376041479207,0.0678571572203031,0.08136624342440744,0.14530010940103122,0.0045785955285489325,-0.013310041712943683,0.0046661138902786255,-0.01630516320350451,null,0.21909638159481995,0.1408742446507388],[0.06624662217624679,0.014559049135147028,0.04395398951182879,0.023059479099389785,0.22796257589799654,0.07917683192759417,1.0,0.5489846205036819,0.8261890393917888,0.42048264441419936,0.06762357266022304,0.09021498376021501,0.2941086662450108,0.019556587110521242,-0.10031095157835396,null,0.08042151331132671,0.224681234065215],[0.09471489993454646,0.028720259304929087,-0.001612372154598911,0.05262647016210816,0.010341088543339289,0.002059376041479207,0.5489846205036819,1.0,0.07844329475397499,0.30505434478539445,0.0026300777204663296,0.11261335836016344,0.3059076711940392,0.017766318321516907,0.007438183583527188,null,-0.0026278840096560004,0.11927002031990154],[0.025938539555519634,-0.012287742264235856,0.04983107019419147,-0.009228014488821405,0.27616756682724075,0.0678571572203031,0.8261890393917888,0.07844329475397499,1.0,0.000029076489601753122,0.10243275431262565,0.02457811051425716,0.0645857112966559,0.006387939187768426,-0.13195556033677858,null,0.10994091645908169,0.2032132858570707],[0.02733169016631666,0.04328478746284446,0.01655751646114131,0.03202117136968944,0.014243384678807277,0.08136624342440744,0.42048264441419936,0.30505434478539445,0.000029076489601753122,1.0,-0.049574248564843645,0.0872734344877909,0.4063730013092587,0.02486352208170284,0.005599282950933672,null,-0.019883705211696752,0.053224872029314266],[0.30105078744751707,0.216026972199892,0.13680413703754865,-0.09339712780369648,0.053251780713231125,0.14530010940103122,0.06762357266022304,0.0026300777204663296,0.10243275431262565,-0.049574248564843645,1.0,0.2929092457898449,0.03428682832337997,0.1091425704741642,0.07439698139926088,null,0.07395632717828929,0.13908967344298345],[0.8772792965193511,0.4085016040335954,-0.017083109581487753,-0.051215353549746906,0.18211003463448971,0.0045785955285489325,0.09021498376021501,0.11261335836016344,0.02457811051425716,0.0872734344877909,0.2929092457898449,1.0,0.17774439035764114,-0.0586026733232983,0.013261102036658381,null,-0.04058227345733396,0.06992829464239764],[0.041495111475326175,-0.012054745351338885,-0.01731289294364591,0.0058111695454056075,-0.00033619324186230225,-0.013310041712943683,0.2941086662450108,0.3059076711940392,0.0645857112966559,0.4063730013092587,0.03428682832337997,0.17774439035764114,1.0,0.003213918087930247,0.0022753974179497084,null,-0.01006693829703628,0.0554762609990993],[-0.036055536020161594,0.04178136169712518,-0.017352313666440904,0.014910286713562228,0.024616694561676557,0.0046661138902786255,0.019556587110521242,0.017766318321516907,0.006387939187768426,0.02486352208170284,0.1091425704741642,-0.0586026733232983,0.003213918087930247,1.0,0.005659204140106248,null,0.13139634877145895,0.15467049494885607],[0.001058648410805666,0.025639403195582618,-0.02112806050338126,0.0216654027956733,-0.0697521131075916,-0.01630516320350451,-0.10031095157835396,0.007438183583527188,-0.13195556033677858,0.005599282950933672,0.07439698139926088,0.013261102036658381,0.0022753974179497084,0.005659204140106248,1.0,null,0.012947344224960583,-0.06868344827219182],[null,null,null,null,null,null,null,null,null,null,null,null,null,null,null,null,null,null],[-0.024358094399627574,-0.020362494422598708,0.22857684672654946,0.031213676026190455,0.052877543843370095,0.21909638159481995,0.08042151331132671,-0.0026278840096560004,0.10994091645908169,-0.019883705211696752,0.07395632717828929,-0.04058227345733396,-0.01006693829703628,0.13139634877145895,0.012947344224960583,null,1.0,0.13055605984788432],[0.06073781136061188,0.005530510770630839,0.12119413054836979,0.03514958133367713,0.21458908871551557,0.1408742446507388,0.224681234065215,0.11927002031990154,0.2032132858570707,0.053224872029314266,0.13908967344298345,0.06992829464239764,0.0554762609990993,0.15467049494885607,-0.06868344827219182,null,0.13055605984788432,1.0]],\"type\":\"heatmap\",\"xaxis\":\"x\",\"yaxis\":\"y\",\"hovertemplate\":\"x: %{x}\\u003cbr\\u003ey: %{y}\\u003cbr\\u003eCorrelation: %{z}\\u003cextra\\u003e\\u003c\\u002fextra\\u003e\"}],                        {\"template\":{\"data\":{\"histogram2dcontour\":[{\"type\":\"histogram2dcontour\",\"colorbar\":{\"outlinewidth\":0,\"ticks\":\"\"},\"colorscale\":[[0.0,\"#0d0887\"],[0.1111111111111111,\"#46039f\"],[0.2222222222222222,\"#7201a8\"],[0.3333333333333333,\"#9c179e\"],[0.4444444444444444,\"#bd3786\"],[0.5555555555555556,\"#d8576b\"],[0.6666666666666666,\"#ed7953\"],[0.7777777777777778,\"#fb9f3a\"],[0.8888888888888888,\"#fdca26\"],[1.0,\"#f0f921\"]]}],\"choropleth\":[{\"type\":\"choropleth\",\"colorbar\":{\"outlinewidth\":0,\"ticks\":\"\"}}],\"histogram2d\":[{\"type\":\"histogram2d\",\"colorbar\":{\"outlinewidth\":0,\"ticks\":\"\"},\"colorscale\":[[0.0,\"#0d0887\"],[0.1111111111111111,\"#46039f\"],[0.2222222222222222,\"#7201a8\"],[0.3333333333333333,\"#9c179e\"],[0.4444444444444444,\"#bd3786\"],[0.5555555555555556,\"#d8576b\"],[0.6666666666666666,\"#ed7953\"],[0.7777777777777778,\"#fb9f3a\"],[0.8888888888888888,\"#fdca26\"],[1.0,\"#f0f921\"]]}],\"heatmap\":[{\"type\":\"heatmap\",\"colorbar\":{\"outlinewidth\":0,\"ticks\":\"\"},\"colorscale\":[[0.0,\"#0d0887\"],[0.1111111111111111,\"#46039f\"],[0.2222222222222222,\"#7201a8\"],[0.3333333333333333,\"#9c179e\"],[0.4444444444444444,\"#bd3786\"],[0.5555555555555556,\"#d8576b\"],[0.6666666666666666,\"#ed7953\"],[0.7777777777777778,\"#fb9f3a\"],[0.8888888888888888,\"#fdca26\"],[1.0,\"#f0f921\"]]}],\"heatmapgl\":[{\"type\":\"heatmapgl\",\"colorbar\":{\"outlinewidth\":0,\"ticks\":\"\"},\"colorscale\":[[0.0,\"#0d0887\"],[0.1111111111111111,\"#46039f\"],[0.2222222222222222,\"#7201a8\"],[0.3333333333333333,\"#9c179e\"],[0.4444444444444444,\"#bd3786\"],[0.5555555555555556,\"#d8576b\"],[0.6666666666666666,\"#ed7953\"],[0.7777777777777778,\"#fb9f3a\"],[0.8888888888888888,\"#fdca26\"],[1.0,\"#f0f921\"]]}],\"contourcarpet\":[{\"type\":\"contourcarpet\",\"colorbar\":{\"outlinewidth\":0,\"ticks\":\"\"}}],\"contour\":[{\"type\":\"contour\",\"colorbar\":{\"outlinewidth\":0,\"ticks\":\"\"},\"colorscale\":[[0.0,\"#0d0887\"],[0.1111111111111111,\"#46039f\"],[0.2222222222222222,\"#7201a8\"],[0.3333333333333333,\"#9c179e\"],[0.4444444444444444,\"#bd3786\"],[0.5555555555555556,\"#d8576b\"],[0.6666666666666666,\"#ed7953\"],[0.7777777777777778,\"#fb9f3a\"],[0.8888888888888888,\"#fdca26\"],[1.0,\"#f0f921\"]]}],\"surface\":[{\"type\":\"surface\",\"colorbar\":{\"outlinewidth\":0,\"ticks\":\"\"},\"colorscale\":[[0.0,\"#0d0887\"],[0.1111111111111111,\"#46039f\"],[0.2222222222222222,\"#7201a8\"],[0.3333333333333333,\"#9c179e\"],[0.4444444444444444,\"#bd3786\"],[0.5555555555555556,\"#d8576b\"],[0.6666666666666666,\"#ed7953\"],[0.7777777777777778,\"#fb9f3a\"],[0.8888888888888888,\"#fdca26\"],[1.0,\"#f0f921\"]]}],\"mesh3d\":[{\"type\":\"mesh3d\",\"colorbar\":{\"outlinewidth\":0,\"ticks\":\"\"}}],\"scatter\":[{\"fillpattern\":{\"fillmode\":\"overlay\",\"size\":10,\"solidity\":0.2},\"type\":\"scatter\"}],\"parcoords\":[{\"type\":\"parcoords\",\"line\":{\"colorbar\":{\"outlinewidth\":0,\"ticks\":\"\"}}}],\"scatterpolargl\":[{\"type\":\"scatterpolargl\",\"marker\":{\"colorbar\":{\"outlinewidth\":0,\"ticks\":\"\"}}}],\"bar\":[{\"error_x\":{\"color\":\"#2a3f5f\"},\"error_y\":{\"color\":\"#2a3f5f\"},\"marker\":{\"line\":{\"color\":\"#E5ECF6\",\"width\":0.5},\"pattern\":{\"fillmode\":\"overlay\",\"size\":10,\"solidity\":0.2}},\"type\":\"bar\"}],\"scattergeo\":[{\"type\":\"scattergeo\",\"marker\":{\"colorbar\":{\"outlinewidth\":0,\"ticks\":\"\"}}}],\"scatterpolar\":[{\"type\":\"scatterpolar\",\"marker\":{\"colorbar\":{\"outlinewidth\":0,\"ticks\":\"\"}}}],\"histogram\":[{\"marker\":{\"pattern\":{\"fillmode\":\"overlay\",\"size\":10,\"solidity\":0.2}},\"type\":\"histogram\"}],\"scattergl\":[{\"type\":\"scattergl\",\"marker\":{\"colorbar\":{\"outlinewidth\":0,\"ticks\":\"\"}}}],\"scatter3d\":[{\"type\":\"scatter3d\",\"line\":{\"colorbar\":{\"outlinewidth\":0,\"ticks\":\"\"}},\"marker\":{\"colorbar\":{\"outlinewidth\":0,\"ticks\":\"\"}}}],\"scattermapbox\":[{\"type\":\"scattermapbox\",\"marker\":{\"colorbar\":{\"outlinewidth\":0,\"ticks\":\"\"}}}],\"scatterternary\":[{\"type\":\"scatterternary\",\"marker\":{\"colorbar\":{\"outlinewidth\":0,\"ticks\":\"\"}}}],\"scattercarpet\":[{\"type\":\"scattercarpet\",\"marker\":{\"colorbar\":{\"outlinewidth\":0,\"ticks\":\"\"}}}],\"carpet\":[{\"aaxis\":{\"endlinecolor\":\"#2a3f5f\",\"gridcolor\":\"white\",\"linecolor\":\"white\",\"minorgridcolor\":\"white\",\"startlinecolor\":\"#2a3f5f\"},\"baxis\":{\"endlinecolor\":\"#2a3f5f\",\"gridcolor\":\"white\",\"linecolor\":\"white\",\"minorgridcolor\":\"white\",\"startlinecolor\":\"#2a3f5f\"},\"type\":\"carpet\"}],\"table\":[{\"cells\":{\"fill\":{\"color\":\"#EBF0F8\"},\"line\":{\"color\":\"white\"}},\"header\":{\"fill\":{\"color\":\"#C8D4E3\"},\"line\":{\"color\":\"white\"}},\"type\":\"table\"}],\"barpolar\":[{\"marker\":{\"line\":{\"color\":\"#E5ECF6\",\"width\":0.5},\"pattern\":{\"fillmode\":\"overlay\",\"size\":10,\"solidity\":0.2}},\"type\":\"barpolar\"}],\"pie\":[{\"automargin\":true,\"type\":\"pie\"}]},\"layout\":{\"autotypenumbers\":\"strict\",\"colorway\":[\"#636efa\",\"#EF553B\",\"#00cc96\",\"#ab63fa\",\"#FFA15A\",\"#19d3f3\",\"#FF6692\",\"#B6E880\",\"#FF97FF\",\"#FECB52\"],\"font\":{\"color\":\"#2a3f5f\"},\"hovermode\":\"closest\",\"hoverlabel\":{\"align\":\"left\"},\"paper_bgcolor\":\"white\",\"plot_bgcolor\":\"#E5ECF6\",\"polar\":{\"bgcolor\":\"#E5ECF6\",\"angularaxis\":{\"gridcolor\":\"white\",\"linecolor\":\"white\",\"ticks\":\"\"},\"radialaxis\":{\"gridcolor\":\"white\",\"linecolor\":\"white\",\"ticks\":\"\"}},\"ternary\":{\"bgcolor\":\"#E5ECF6\",\"aaxis\":{\"gridcolor\":\"white\",\"linecolor\":\"white\",\"ticks\":\"\"},\"baxis\":{\"gridcolor\":\"white\",\"linecolor\":\"white\",\"ticks\":\"\"},\"caxis\":{\"gridcolor\":\"white\",\"linecolor\":\"white\",\"ticks\":\"\"}},\"coloraxis\":{\"colorbar\":{\"outlinewidth\":0,\"ticks\":\"\"}},\"colorscale\":{\"sequential\":[[0.0,\"#0d0887\"],[0.1111111111111111,\"#46039f\"],[0.2222222222222222,\"#7201a8\"],[0.3333333333333333,\"#9c179e\"],[0.4444444444444444,\"#bd3786\"],[0.5555555555555556,\"#d8576b\"],[0.6666666666666666,\"#ed7953\"],[0.7777777777777778,\"#fb9f3a\"],[0.8888888888888888,\"#fdca26\"],[1.0,\"#f0f921\"]],\"sequentialminus\":[[0.0,\"#0d0887\"],[0.1111111111111111,\"#46039f\"],[0.2222222222222222,\"#7201a8\"],[0.3333333333333333,\"#9c179e\"],[0.4444444444444444,\"#bd3786\"],[0.5555555555555556,\"#d8576b\"],[0.6666666666666666,\"#ed7953\"],[0.7777777777777778,\"#fb9f3a\"],[0.8888888888888888,\"#fdca26\"],[1.0,\"#f0f921\"]],\"diverging\":[[0,\"#8e0152\"],[0.1,\"#c51b7d\"],[0.2,\"#de77ae\"],[0.3,\"#f1b6da\"],[0.4,\"#fde0ef\"],[0.5,\"#f7f7f7\"],[0.6,\"#e6f5d0\"],[0.7,\"#b8e186\"],[0.8,\"#7fbc41\"],[0.9,\"#4d9221\"],[1,\"#276419\"]]},\"xaxis\":{\"gridcolor\":\"white\",\"linecolor\":\"white\",\"ticks\":\"\",\"title\":{\"standoff\":15},\"zerolinecolor\":\"white\",\"automargin\":true,\"zerolinewidth\":2},\"yaxis\":{\"gridcolor\":\"white\",\"linecolor\":\"white\",\"ticks\":\"\",\"title\":{\"standoff\":15},\"zerolinecolor\":\"white\",\"automargin\":true,\"zerolinewidth\":2},\"scene\":{\"xaxis\":{\"backgroundcolor\":\"#E5ECF6\",\"gridcolor\":\"white\",\"linecolor\":\"white\",\"showbackground\":true,\"ticks\":\"\",\"zerolinecolor\":\"white\",\"gridwidth\":2},\"yaxis\":{\"backgroundcolor\":\"#E5ECF6\",\"gridcolor\":\"white\",\"linecolor\":\"white\",\"showbackground\":true,\"ticks\":\"\",\"zerolinecolor\":\"white\",\"gridwidth\":2},\"zaxis\":{\"backgroundcolor\":\"#E5ECF6\",\"gridcolor\":\"white\",\"linecolor\":\"white\",\"showbackground\":true,\"ticks\":\"\",\"zerolinecolor\":\"white\",\"gridwidth\":2}},\"shapedefaults\":{\"line\":{\"color\":\"#2a3f5f\"}},\"annotationdefaults\":{\"arrowcolor\":\"#2a3f5f\",\"arrowhead\":0,\"arrowwidth\":1},\"geo\":{\"bgcolor\":\"white\",\"landcolor\":\"#E5ECF6\",\"subunitcolor\":\"white\",\"showland\":true,\"showlakes\":true,\"lakecolor\":\"white\"},\"title\":{\"x\":0.05},\"mapbox\":{\"style\":\"light\"}}},\"xaxis\":{\"anchor\":\"y\",\"domain\":[0.0,1.0],\"scaleanchor\":\"y\",\"constrain\":\"domain\"},\"yaxis\":{\"anchor\":\"x\",\"domain\":[0.0,1.0],\"autorange\":\"reversed\",\"constrain\":\"domain\"},\"coloraxis\":{\"colorbar\":{\"title\":{\"text\":\"Correlation\"}},\"colorscale\":[[0.0,\"rgb(255, 198, 196)\"],[0.16666666666666666,\"rgb(244, 163, 168)\"],[0.3333333333333333,\"rgb(227, 129, 145)\"],[0.5,\"rgb(204, 96, 125)\"],[0.6666666666666666,\"rgb(173, 70, 108)\"],[0.8333333333333334,\"rgb(139, 48, 88)\"],[1.0,\"rgb(103, 32, 68)\"]]},\"title\":{\"text\":\"Correlation Heatmap\"}},                        {\"responsive\": true}                    ).then(function(){\n",
       "                            \n",
       "var gd = document.getElementById('a65a547f-b668-47cc-8957-e9ee9a8a2e0a');\n",
       "var x = new MutationObserver(function (mutations, observer) {{\n",
       "        var display = window.getComputedStyle(gd).display;\n",
       "        if (!display || display === 'none') {{\n",
       "            console.log([gd, 'removed!']);\n",
       "            Plotly.purge(gd);\n",
       "            observer.disconnect();\n",
       "        }}\n",
       "}});\n",
       "\n",
       "// Listen for the removal of the full notebook cells\n",
       "var notebookContainer = gd.closest('#notebook-container');\n",
       "if (notebookContainer) {{\n",
       "    x.observe(notebookContainer, {childList: true});\n",
       "}}\n",
       "\n",
       "// Listen for the clearing of the current output cell\n",
       "var outputEl = gd.closest('.output');\n",
       "if (outputEl) {{\n",
       "    x.observe(outputEl, {childList: true});\n",
       "}}\n",
       "\n",
       "                        })                };                });            </script>        </div>"
      ]
     },
     "metadata": {},
     "output_type": "display_data"
    }
   ],
   "source": [
    "# Calculate correlation matrix\n",
    "correlation_matrix = numical_columns.corr()\n",
    "\n",
    "# Create a heatmap using Plotly Express\n",
    "fig = px.imshow(correlation_matrix,\n",
    "                labels=dict(color=\"Correlation\"),\n",
    "                x=correlation_matrix.index,\n",
    "                y=correlation_matrix.columns,\n",
    "                color_continuous_scale='burg',  \n",
    "                title=\"Correlation Heatmap\")\n",
    "\n",
    "# Show the plot\n",
    "fig.show()"
   ]
  },
  {
   "cell_type": "markdown",
   "metadata": {},
   "source": [
    "# **modeling :\n",
    "# Experiment 1**"
   ]
  },
  {
   "cell_type": "markdown",
   "metadata": {},
   "source": [
    "As indicated by the heatmap, the columns 'price', 'shipping_option_price', 'merchant_rating_count', 'badges_count', and 'badge_product_quality' exhibit the strongest correlation with the target variable 'rating'. So, I've decided to use this columns as features (X) for the model."
   ]
  },
  {
   "cell_type": "code",
   "execution_count": 354,
   "metadata": {
    "execution": {
     "iopub.execute_input": "2024-03-21T14:11:06.537482Z",
     "iopub.status.busy": "2024-03-21T14:11:06.536972Z",
     "iopub.status.idle": "2024-03-21T14:11:06.545659Z",
     "shell.execute_reply": "2024-03-21T14:11:06.543704Z",
     "shell.execute_reply.started": "2024-03-21T14:11:06.537444Z"
    }
   },
   "outputs": [],
   "source": [
    "# selected features\n",
    "x = df[['price', 'shipping_option_price', 'merchant_rating_count', \\\n",
    "                       'badges_count', 'badge_product_quality']]\n",
    "y =df[\"rating\"] # the target"
   ]
  },
  {
   "cell_type": "code",
   "execution_count": 390,
   "metadata": {
    "execution": {
     "iopub.execute_input": "2024-03-21T14:53:28.447123Z",
     "iopub.status.busy": "2024-03-21T14:53:28.446482Z",
     "iopub.status.idle": "2024-03-21T14:53:28.467348Z",
     "shell.execute_reply": "2024-03-21T14:53:28.465089Z",
     "shell.execute_reply.started": "2024-03-21T14:53:28.447082Z"
    }
   },
   "outputs": [
    {
     "data": {
      "text/html": [
       "<div>\n",
       "<style scoped>\n",
       "    .dataframe tbody tr th:only-of-type {\n",
       "        vertical-align: middle;\n",
       "    }\n",
       "\n",
       "    .dataframe tbody tr th {\n",
       "        vertical-align: top;\n",
       "    }\n",
       "\n",
       "    .dataframe thead th {\n",
       "        text-align: right;\n",
       "    }\n",
       "</style>\n",
       "<table border=\"1\" class=\"dataframe\">\n",
       "  <thead>\n",
       "    <tr style=\"text-align: right;\">\n",
       "      <th></th>\n",
       "      <th>price</th>\n",
       "      <th>shipping_option_price</th>\n",
       "      <th>merchant_rating_count</th>\n",
       "      <th>badges_count</th>\n",
       "      <th>badge_product_quality</th>\n",
       "    </tr>\n",
       "  </thead>\n",
       "  <tbody>\n",
       "    <tr>\n",
       "      <th>0</th>\n",
       "      <td>8.00</td>\n",
       "      <td>3</td>\n",
       "      <td>66644</td>\n",
       "      <td>0</td>\n",
       "      <td>0</td>\n",
       "    </tr>\n",
       "    <tr>\n",
       "      <th>1</th>\n",
       "      <td>8.00</td>\n",
       "      <td>3</td>\n",
       "      <td>25752</td>\n",
       "      <td>1</td>\n",
       "      <td>0</td>\n",
       "    </tr>\n",
       "    <tr>\n",
       "      <th>2</th>\n",
       "      <td>6.00</td>\n",
       "      <td>2</td>\n",
       "      <td>3897</td>\n",
       "      <td>0</td>\n",
       "      <td>0</td>\n",
       "    </tr>\n",
       "    <tr>\n",
       "      <th>3</th>\n",
       "      <td>4.67</td>\n",
       "      <td>1</td>\n",
       "      <td>7497</td>\n",
       "      <td>0</td>\n",
       "      <td>0</td>\n",
       "    </tr>\n",
       "    <tr>\n",
       "      <th>4</th>\n",
       "      <td>8.00</td>\n",
       "      <td>3</td>\n",
       "      <td>173</td>\n",
       "      <td>0</td>\n",
       "      <td>0</td>\n",
       "    </tr>\n",
       "    <tr>\n",
       "      <th>...</th>\n",
       "      <td>...</td>\n",
       "      <td>...</td>\n",
       "      <td>...</td>\n",
       "      <td>...</td>\n",
       "      <td>...</td>\n",
       "    </tr>\n",
       "    <tr>\n",
       "      <th>1089</th>\n",
       "      <td>4.00</td>\n",
       "      <td>1</td>\n",
       "      <td>230951</td>\n",
       "      <td>0</td>\n",
       "      <td>0</td>\n",
       "    </tr>\n",
       "    <tr>\n",
       "      <th>1090</th>\n",
       "      <td>5.00</td>\n",
       "      <td>2</td>\n",
       "      <td>2904</td>\n",
       "      <td>1</td>\n",
       "      <td>1</td>\n",
       "    </tr>\n",
       "    <tr>\n",
       "      <th>1091</th>\n",
       "      <td>9.00</td>\n",
       "      <td>3</td>\n",
       "      <td>6632</td>\n",
       "      <td>0</td>\n",
       "      <td>0</td>\n",
       "    </tr>\n",
       "    <tr>\n",
       "      <th>1092</th>\n",
       "      <td>11.00</td>\n",
       "      <td>2</td>\n",
       "      <td>5816</td>\n",
       "      <td>0</td>\n",
       "      <td>0</td>\n",
       "    </tr>\n",
       "    <tr>\n",
       "      <th>1093</th>\n",
       "      <td>7.00</td>\n",
       "      <td>2</td>\n",
       "      <td>12309</td>\n",
       "      <td>0</td>\n",
       "      <td>0</td>\n",
       "    </tr>\n",
       "  </tbody>\n",
       "</table>\n",
       "<p>1093 rows × 5 columns</p>\n",
       "</div>"
      ],
      "text/plain": [
       "      price  shipping_option_price  merchant_rating_count  badges_count  \\\n",
       "0      8.00                      3                  66644             0   \n",
       "1      8.00                      3                  25752             1   \n",
       "2      6.00                      2                   3897             0   \n",
       "3      4.67                      1                   7497             0   \n",
       "4      8.00                      3                    173             0   \n",
       "...     ...                    ...                    ...           ...   \n",
       "1089   4.00                      1                 230951             0   \n",
       "1090   5.00                      2                   2904             1   \n",
       "1091   9.00                      3                   6632             0   \n",
       "1092  11.00                      2                   5816             0   \n",
       "1093   7.00                      2                  12309             0   \n",
       "\n",
       "      badge_product_quality  \n",
       "0                         0  \n",
       "1                         0  \n",
       "2                         0  \n",
       "3                         0  \n",
       "4                         0  \n",
       "...                     ...  \n",
       "1089                      0  \n",
       "1090                      1  \n",
       "1091                      0  \n",
       "1092                      0  \n",
       "1093                      0  \n",
       "\n",
       "[1093 rows x 5 columns]"
      ]
     },
     "execution_count": 390,
     "metadata": {},
     "output_type": "execute_result"
    }
   ],
   "source": [
    "x"
   ]
  },
  {
   "cell_type": "code",
   "execution_count": 355,
   "metadata": {
    "execution": {
     "iopub.execute_input": "2024-03-21T14:11:23.107185Z",
     "iopub.status.busy": "2024-03-21T14:11:23.106701Z",
     "iopub.status.idle": "2024-03-21T14:11:23.118768Z",
     "shell.execute_reply": "2024-03-21T14:11:23.117321Z",
     "shell.execute_reply.started": "2024-03-21T14:11:23.107153Z"
    }
   },
   "outputs": [],
   "source": [
    "# Splitting the data into training and validation sets\n",
    "X_train,X_test,y_train,y_test = train_test_split(x,y,test_size=0.2,random_state=42)"
   ]
  },
  {
   "cell_type": "code",
   "execution_count": 356,
   "metadata": {
    "execution": {
     "iopub.execute_input": "2024-03-21T14:11:25.428661Z",
     "iopub.status.busy": "2024-03-21T14:11:25.428128Z",
     "iopub.status.idle": "2024-03-21T14:11:25.435320Z",
     "shell.execute_reply": "2024-03-21T14:11:25.433614Z",
     "shell.execute_reply.started": "2024-03-21T14:11:25.428623Z"
    }
   },
   "outputs": [],
   "source": [
    "# Instantiate the StandardScaler\n",
    "scaler=StandardScaler()"
   ]
  },
  {
   "cell_type": "code",
   "execution_count": 357,
   "metadata": {
    "execution": {
     "iopub.execute_input": "2024-03-21T14:11:30.790272Z",
     "iopub.status.busy": "2024-03-21T14:11:30.789004Z",
     "iopub.status.idle": "2024-03-21T14:11:30.801573Z",
     "shell.execute_reply": "2024-03-21T14:11:30.800111Z",
     "shell.execute_reply.started": "2024-03-21T14:11:30.790181Z"
    }
   },
   "outputs": [
    {
     "data": {
      "text/html": [
       "<style>#sk-container-id-6 {color: black;background-color: white;}#sk-container-id-6 pre{padding: 0;}#sk-container-id-6 div.sk-toggleable {background-color: white;}#sk-container-id-6 label.sk-toggleable__label {cursor: pointer;display: block;width: 100%;margin-bottom: 0;padding: 0.3em;box-sizing: border-box;text-align: center;}#sk-container-id-6 label.sk-toggleable__label-arrow:before {content: \"▸\";float: left;margin-right: 0.25em;color: #696969;}#sk-container-id-6 label.sk-toggleable__label-arrow:hover:before {color: black;}#sk-container-id-6 div.sk-estimator:hover label.sk-toggleable__label-arrow:before {color: black;}#sk-container-id-6 div.sk-toggleable__content {max-height: 0;max-width: 0;overflow: hidden;text-align: left;background-color: #f0f8ff;}#sk-container-id-6 div.sk-toggleable__content pre {margin: 0.2em;color: black;border-radius: 0.25em;background-color: #f0f8ff;}#sk-container-id-6 input.sk-toggleable__control:checked~div.sk-toggleable__content {max-height: 200px;max-width: 100%;overflow: auto;}#sk-container-id-6 input.sk-toggleable__control:checked~label.sk-toggleable__label-arrow:before {content: \"▾\";}#sk-container-id-6 div.sk-estimator input.sk-toggleable__control:checked~label.sk-toggleable__label {background-color: #d4ebff;}#sk-container-id-6 div.sk-label input.sk-toggleable__control:checked~label.sk-toggleable__label {background-color: #d4ebff;}#sk-container-id-6 input.sk-hidden--visually {border: 0;clip: rect(1px 1px 1px 1px);clip: rect(1px, 1px, 1px, 1px);height: 1px;margin: -1px;overflow: hidden;padding: 0;position: absolute;width: 1px;}#sk-container-id-6 div.sk-estimator {font-family: monospace;background-color: #f0f8ff;border: 1px dotted black;border-radius: 0.25em;box-sizing: border-box;margin-bottom: 0.5em;}#sk-container-id-6 div.sk-estimator:hover {background-color: #d4ebff;}#sk-container-id-6 div.sk-parallel-item::after {content: \"\";width: 100%;border-bottom: 1px solid gray;flex-grow: 1;}#sk-container-id-6 div.sk-label:hover label.sk-toggleable__label {background-color: #d4ebff;}#sk-container-id-6 div.sk-serial::before {content: \"\";position: absolute;border-left: 1px solid gray;box-sizing: border-box;top: 0;bottom: 0;left: 50%;z-index: 0;}#sk-container-id-6 div.sk-serial {display: flex;flex-direction: column;align-items: center;background-color: white;padding-right: 0.2em;padding-left: 0.2em;position: relative;}#sk-container-id-6 div.sk-item {position: relative;z-index: 1;}#sk-container-id-6 div.sk-parallel {display: flex;align-items: stretch;justify-content: center;background-color: white;position: relative;}#sk-container-id-6 div.sk-item::before, #sk-container-id-6 div.sk-parallel-item::before {content: \"\";position: absolute;border-left: 1px solid gray;box-sizing: border-box;top: 0;bottom: 0;left: 50%;z-index: -1;}#sk-container-id-6 div.sk-parallel-item {display: flex;flex-direction: column;z-index: 1;position: relative;background-color: white;}#sk-container-id-6 div.sk-parallel-item:first-child::after {align-self: flex-end;width: 50%;}#sk-container-id-6 div.sk-parallel-item:last-child::after {align-self: flex-start;width: 50%;}#sk-container-id-6 div.sk-parallel-item:only-child::after {width: 0;}#sk-container-id-6 div.sk-dashed-wrapped {border: 1px dashed gray;margin: 0 0.4em 0.5em 0.4em;box-sizing: border-box;padding-bottom: 0.4em;background-color: white;}#sk-container-id-6 div.sk-label label {font-family: monospace;font-weight: bold;display: inline-block;line-height: 1.2em;}#sk-container-id-6 div.sk-label-container {text-align: center;}#sk-container-id-6 div.sk-container {/* jupyter's `normalize.less` sets `[hidden] { display: none; }` but bootstrap.min.css set `[hidden] { display: none !important; }` so we also need the `!important` here to be able to override the default hidden behavior on the sphinx rendered scikit-learn.org. See: https://github.com/scikit-learn/scikit-learn/issues/21755 */display: inline-block !important;position: relative;}#sk-container-id-6 div.sk-text-repr-fallback {display: none;}</style><div id=\"sk-container-id-6\" class=\"sk-top-container\"><div class=\"sk-text-repr-fallback\"><pre>StandardScaler()</pre><b>In a Jupyter environment, please rerun this cell to show the HTML representation or trust the notebook. <br />On GitHub, the HTML representation is unable to render, please try loading this page with nbviewer.org.</b></div><div class=\"sk-container\" hidden><div class=\"sk-item\"><div class=\"sk-estimator sk-toggleable\"><input class=\"sk-toggleable__control sk-hidden--visually\" id=\"sk-estimator-id-6\" type=\"checkbox\" checked><label for=\"sk-estimator-id-6\" class=\"sk-toggleable__label sk-toggleable__label-arrow\">StandardScaler</label><div class=\"sk-toggleable__content\"><pre>StandardScaler()</pre></div></div></div></div></div>"
      ],
      "text/plain": [
       "StandardScaler()"
      ]
     },
     "execution_count": 357,
     "metadata": {},
     "output_type": "execute_result"
    }
   ],
   "source": [
    "# Fit the scaler to the training data and transform it\n",
    "scaler.fit(X_train)"
   ]
  },
  {
   "cell_type": "code",
   "execution_count": 358,
   "metadata": {
    "execution": {
     "iopub.execute_input": "2024-03-21T14:11:36.765198Z",
     "iopub.status.busy": "2024-03-21T14:11:36.764735Z",
     "iopub.status.idle": "2024-03-21T14:11:36.776657Z",
     "shell.execute_reply": "2024-03-21T14:11:36.775469Z",
     "shell.execute_reply.started": "2024-03-21T14:11:36.765165Z"
    }
   },
   "outputs": [],
   "source": [
    "# Transform the validation data using the scaler fitted on the training data\n",
    "X_train_scaled = scaler.transform(X_train)\n",
    "X_test_scaled = scaler.transform(X_test)"
   ]
  },
  {
   "cell_type": "markdown",
   "metadata": {},
   "source": [
    "**decision tree**"
   ]
  },
  {
   "cell_type": "code",
   "execution_count": 427,
   "metadata": {
    "execution": {
     "iopub.execute_input": "2024-03-21T16:26:40.725256Z",
     "iopub.status.busy": "2024-03-21T16:26:40.724740Z",
     "iopub.status.idle": "2024-03-21T16:26:44.984916Z",
     "shell.execute_reply": "2024-03-21T16:26:44.983996Z",
     "shell.execute_reply.started": "2024-03-21T16:26:40.725203Z"
    }
   },
   "outputs": [
    {
     "name": "stderr",
     "output_type": "stream",
     "text": [
      "/opt/conda/lib/python3.10/site-packages/sklearn/model_selection/_split.py:700: UserWarning:\n",
      "\n",
      "The least populated class in y has only 2 members, which is less than n_splits=5.\n",
      "\n"
     ]
    },
    {
     "name": "stdout",
     "output_type": "stream",
     "text": [
      "{'criterion': 'entropy', 'max_depth': 9}\n"
     ]
    }
   ],
   "source": [
    "from sklearn.model_selection import GridSearchCV\n",
    "# Define the parameters grid\n",
    "DT_param = DT_param_grid = {\n",
    "    'criterion': ['gini', 'entropy'],\n",
    "    'max_depth': range(9, 100),}\n",
    "\n",
    "# Instantiate the Decision Tree Classifier\n",
    "model = DecisionTreeClassifier()\n",
    "\n",
    "# Perform grid search with cross-validation\n",
    "grid=GridSearchCV(model,param_grid=DT_param)\n",
    "\n",
    "# Get the best estimator (model) and best parameters\n",
    "grid.fit(X_train_scaled,y_train)\n",
    "model=grid.best_estimator_\n",
    "print(grid.best_params_)"
   ]
  },
  {
   "cell_type": "code",
   "execution_count": 360,
   "metadata": {
    "execution": {
     "iopub.execute_input": "2024-03-21T14:12:42.943680Z",
     "iopub.status.busy": "2024-03-21T14:12:42.942421Z",
     "iopub.status.idle": "2024-03-21T14:12:42.952257Z",
     "shell.execute_reply": "2024-03-21T14:12:42.951106Z",
     "shell.execute_reply.started": "2024-03-21T14:12:42.943630Z"
    }
   },
   "outputs": [
    {
     "data": {
      "text/plain": [
       "array([[-0.65931676, -0.34202633, -0.07199284, -0.32255087, -0.29735237],\n",
       "       [-0.67241045, -0.34202633,  0.41089665, -0.32255087, -0.29735237],\n",
       "       [-0.60432326, -0.34202633, -0.29282335, -0.32255087, -0.29735237],\n",
       "       ...,\n",
       "       [ 0.18129818,  0.64454466, -0.29324664, -0.32255087, -0.29735237],\n",
       "       [-0.86619707, -0.34202633,  0.1678434 , -0.32255087, -0.29735237],\n",
       "       [-0.60432326, -0.34202633, -0.25310815, -0.32255087, -0.29735237]])"
      ]
     },
     "execution_count": 360,
     "metadata": {},
     "output_type": "execute_result"
    }
   ],
   "source": [
    "X_test_scaled"
   ]
  },
  {
   "cell_type": "code",
   "execution_count": 361,
   "metadata": {
    "execution": {
     "iopub.execute_input": "2024-03-21T14:12:57.894909Z",
     "iopub.status.busy": "2024-03-21T14:12:57.894383Z",
     "iopub.status.idle": "2024-03-21T14:12:57.918006Z",
     "shell.execute_reply": "2024-03-21T14:12:57.916644Z",
     "shell.execute_reply.started": "2024-03-21T14:12:57.894871Z"
    }
   },
   "outputs": [
    {
     "name": "stdout",
     "output_type": "stream",
     "text": [
      "              precision    recall  f1-score   support\n",
      "\n",
      "         2.0       0.00      0.00      0.00         4\n",
      "         3.0       0.60      0.29      0.39        31\n",
      "         4.0       0.75      0.95      0.84       146\n",
      "         5.0       0.82      0.37      0.51        38\n",
      "\n",
      "    accuracy                           0.74       219\n",
      "   macro avg       0.54      0.40      0.43       219\n",
      "weighted avg       0.73      0.74      0.70       219\n",
      "\n",
      "F1-Score is :  0.7351598173515982\n"
     ]
    }
   ],
   "source": [
    "# Predict the labels for the test set\n",
    "y_pred = model.predict(X_test_scaled)\n",
    "\n",
    "# Calculate the F1 score\n",
    "f1_scores_DTC=f1_score(y_test, y_pred,average='micro')\n",
    "\n",
    "# Print the classification report\n",
    "print(classification_report(y_test, y_pred))\n",
    "\n",
    "# Print the F1 score\n",
    "print('F1-Score is : ', f1_scores_DTC)"
   ]
  },
  {
   "cell_type": "code",
   "execution_count": 362,
   "metadata": {
    "execution": {
     "iopub.execute_input": "2024-03-21T14:13:05.061467Z",
     "iopub.status.busy": "2024-03-21T14:13:05.060645Z",
     "iopub.status.idle": "2024-03-21T14:13:05.069876Z",
     "shell.execute_reply": "2024-03-21T14:13:05.068602Z",
     "shell.execute_reply.started": "2024-03-21T14:13:05.061427Z"
    }
   },
   "outputs": [
    {
     "data": {
      "text/plain": [
       "array([4., 4., 4., 4., 5., 4., 4., 4., 4., 5., 4., 4., 4., 4., 4., 4., 4.,\n",
       "       4., 4., 4., 4., 2., 4., 4., 4., 4., 4., 4., 4., 5., 4., 3., 4., 4.,\n",
       "       4., 4., 4., 4., 3., 5., 4., 4., 4., 4., 4., 4., 5., 4., 4., 3., 4.,\n",
       "       4., 5., 4., 4., 4., 4., 4., 4., 4., 4., 4., 4., 4., 4., 4., 4., 4.,\n",
       "       4., 4., 5., 4., 4., 4., 4., 4., 4., 4., 4., 4., 4., 4., 4., 4., 4.,\n",
       "       4., 4., 4., 3., 4., 4., 4., 4., 5., 5., 4., 4., 4., 5., 4., 4., 4.,\n",
       "       4., 5., 4., 4., 4., 4., 4., 4., 4., 4., 4., 4., 4., 4., 4., 4., 4.,\n",
       "       4., 4., 4., 4., 4., 4., 5., 4., 4., 4., 3., 4., 4., 4., 4., 4., 4.,\n",
       "       3., 3., 4., 4., 4., 3., 3., 5., 2., 4., 2., 4., 4., 4., 3., 4., 4.,\n",
       "       4., 5., 4., 5., 4., 4., 4., 4., 4., 4., 4., 4., 4., 4., 4., 3., 4.,\n",
       "       4., 4., 4., 4., 4., 4., 4., 4., 4., 4., 3., 4., 4., 4., 4., 4., 4.,\n",
       "       4., 3., 4., 4., 4., 4., 4., 4., 3., 3., 4., 4., 4., 4., 4., 5., 4.,\n",
       "       4., 4., 4., 4., 4., 4., 4., 5., 4., 4., 4., 4., 4., 4., 4.])"
      ]
     },
     "execution_count": 362,
     "metadata": {},
     "output_type": "execute_result"
    }
   ],
   "source": [
    "y_pred"
   ]
  },
  {
   "cell_type": "code",
   "execution_count": 392,
   "metadata": {
    "execution": {
     "iopub.execute_input": "2024-03-21T15:26:00.306848Z",
     "iopub.status.busy": "2024-03-21T15:26:00.306442Z",
     "iopub.status.idle": "2024-03-21T15:26:00.330248Z",
     "shell.execute_reply": "2024-03-21T15:26:00.328819Z",
     "shell.execute_reply.started": "2024-03-21T15:26:00.306817Z"
    }
   },
   "outputs": [],
   "source": [
    "#read test data\n",
    "df2=pd.read_csv('/kaggle/input/competition/test_new.csv')"
   ]
  },
  {
   "cell_type": "code",
   "execution_count": 393,
   "metadata": {
    "execution": {
     "iopub.execute_input": "2024-03-21T15:26:01.765060Z",
     "iopub.status.busy": "2024-03-21T15:26:01.764675Z",
     "iopub.status.idle": "2024-03-21T15:26:01.797634Z",
     "shell.execute_reply": "2024-03-21T15:26:01.796022Z",
     "shell.execute_reply.started": "2024-03-21T15:26:01.765029Z"
    }
   },
   "outputs": [
    {
     "data": {
      "text/html": [
       "<div>\n",
       "<style scoped>\n",
       "    .dataframe tbody tr th:only-of-type {\n",
       "        vertical-align: middle;\n",
       "    }\n",
       "\n",
       "    .dataframe tbody tr th {\n",
       "        vertical-align: top;\n",
       "    }\n",
       "\n",
       "    .dataframe thead th {\n",
       "        text-align: right;\n",
       "    }\n",
       "</style>\n",
       "<table border=\"1\" class=\"dataframe\">\n",
       "  <thead>\n",
       "    <tr style=\"text-align: right;\">\n",
       "      <th></th>\n",
       "      <th>price</th>\n",
       "      <th>retail_price</th>\n",
       "      <th>currency_buyer</th>\n",
       "      <th>units_sold</th>\n",
       "      <th>uses_ad_boosts</th>\n",
       "      <th>rating_count</th>\n",
       "      <th>badges_count</th>\n",
       "      <th>badge_local_product</th>\n",
       "      <th>badge_product_quality</th>\n",
       "      <th>badge_fast_shipping</th>\n",
       "      <th>...</th>\n",
       "      <th>merchant_name</th>\n",
       "      <th>merchant_info_subtitle</th>\n",
       "      <th>merchant_rating_count</th>\n",
       "      <th>merchant_rating</th>\n",
       "      <th>merchant_id</th>\n",
       "      <th>merchant_has_profile_picture</th>\n",
       "      <th>merchant_profile_picture</th>\n",
       "      <th>theme</th>\n",
       "      <th>crawl_month</th>\n",
       "      <th>id</th>\n",
       "    </tr>\n",
       "  </thead>\n",
       "  <tbody>\n",
       "    <tr>\n",
       "      <th>0</th>\n",
       "      <td>5.75</td>\n",
       "      <td>5</td>\n",
       "      <td>EUR</td>\n",
       "      <td>10</td>\n",
       "      <td>1</td>\n",
       "      <td>0</td>\n",
       "      <td>0</td>\n",
       "      <td>0</td>\n",
       "      <td>0</td>\n",
       "      <td>0</td>\n",
       "      <td>...</td>\n",
       "      <td>liyang163</td>\n",
       "      <td>33 % avis positifs (3 notes)</td>\n",
       "      <td>3</td>\n",
       "      <td>2.333333</td>\n",
       "      <td>5e63469b2fdc774466e15dd5</td>\n",
       "      <td>0</td>\n",
       "      <td>NaN</td>\n",
       "      <td>summer</td>\n",
       "      <td>2020-08</td>\n",
       "      <td>937</td>\n",
       "    </tr>\n",
       "    <tr>\n",
       "      <th>1</th>\n",
       "      <td>7.00</td>\n",
       "      <td>7</td>\n",
       "      <td>EUR</td>\n",
       "      <td>5000</td>\n",
       "      <td>0</td>\n",
       "      <td>579</td>\n",
       "      <td>0</td>\n",
       "      <td>0</td>\n",
       "      <td>0</td>\n",
       "      <td>0</td>\n",
       "      <td>...</td>\n",
       "      <td>singingthesong</td>\n",
       "      <td>86 % avis positifs (4,213 notes)</td>\n",
       "      <td>4213</td>\n",
       "      <td>4.058391</td>\n",
       "      <td>583547f417dc6224cb464117</td>\n",
       "      <td>0</td>\n",
       "      <td>NaN</td>\n",
       "      <td>summer</td>\n",
       "      <td>2020-08</td>\n",
       "      <td>270</td>\n",
       "    </tr>\n",
       "    <tr>\n",
       "      <th>2</th>\n",
       "      <td>5.00</td>\n",
       "      <td>16</td>\n",
       "      <td>EUR</td>\n",
       "      <td>1000</td>\n",
       "      <td>1</td>\n",
       "      <td>62</td>\n",
       "      <td>0</td>\n",
       "      <td>0</td>\n",
       "      <td>0</td>\n",
       "      <td>0</td>\n",
       "      <td>...</td>\n",
       "      <td>surperboutique</td>\n",
       "      <td>85 % avis positifs (10,501 notes)</td>\n",
       "      <td>10501</td>\n",
       "      <td>4.029235</td>\n",
       "      <td>57086fd7fa6bee434d0e5852</td>\n",
       "      <td>0</td>\n",
       "      <td>NaN</td>\n",
       "      <td>summer</td>\n",
       "      <td>2020-08</td>\n",
       "      <td>308</td>\n",
       "    </tr>\n",
       "    <tr>\n",
       "      <th>3</th>\n",
       "      <td>18.00</td>\n",
       "      <td>27</td>\n",
       "      <td>EUR</td>\n",
       "      <td>5000</td>\n",
       "      <td>1</td>\n",
       "      <td>1903</td>\n",
       "      <td>0</td>\n",
       "      <td>0</td>\n",
       "      <td>0</td>\n",
       "      <td>0</td>\n",
       "      <td>...</td>\n",
       "      <td>postonny</td>\n",
       "      <td>86 % avis positifs (15,855 notes)</td>\n",
       "      <td>15855</td>\n",
       "      <td>4.052917</td>\n",
       "      <td>5a17b55d1f4d8c4f0b44b0ce</td>\n",
       "      <td>0</td>\n",
       "      <td>NaN</td>\n",
       "      <td>summer</td>\n",
       "      <td>2020-08</td>\n",
       "      <td>913</td>\n",
       "    </tr>\n",
       "    <tr>\n",
       "      <th>4</th>\n",
       "      <td>12.00</td>\n",
       "      <td>81</td>\n",
       "      <td>EUR</td>\n",
       "      <td>20000</td>\n",
       "      <td>0</td>\n",
       "      <td>1799</td>\n",
       "      <td>0</td>\n",
       "      <td>0</td>\n",
       "      <td>0</td>\n",
       "      <td>0</td>\n",
       "      <td>...</td>\n",
       "      <td>guangzhouchanny</td>\n",
       "      <td>88 % avis positifs (151,914 notes)</td>\n",
       "      <td>151914</td>\n",
       "      <td>4.127921</td>\n",
       "      <td>53aa664438d3046ee44a5024</td>\n",
       "      <td>0</td>\n",
       "      <td>NaN</td>\n",
       "      <td>summer</td>\n",
       "      <td>2020-08</td>\n",
       "      <td>403</td>\n",
       "    </tr>\n",
       "    <tr>\n",
       "      <th>...</th>\n",
       "      <td>...</td>\n",
       "      <td>...</td>\n",
       "      <td>...</td>\n",
       "      <td>...</td>\n",
       "      <td>...</td>\n",
       "      <td>...</td>\n",
       "      <td>...</td>\n",
       "      <td>...</td>\n",
       "      <td>...</td>\n",
       "      <td>...</td>\n",
       "      <td>...</td>\n",
       "      <td>...</td>\n",
       "      <td>...</td>\n",
       "      <td>...</td>\n",
       "      <td>...</td>\n",
       "      <td>...</td>\n",
       "      <td>...</td>\n",
       "      <td>...</td>\n",
       "      <td>...</td>\n",
       "      <td>...</td>\n",
       "      <td>...</td>\n",
       "    </tr>\n",
       "    <tr>\n",
       "      <th>474</th>\n",
       "      <td>16.00</td>\n",
       "      <td>14</td>\n",
       "      <td>EUR</td>\n",
       "      <td>100</td>\n",
       "      <td>1</td>\n",
       "      <td>27</td>\n",
       "      <td>0</td>\n",
       "      <td>0</td>\n",
       "      <td>0</td>\n",
       "      <td>0</td>\n",
       "      <td>...</td>\n",
       "      <td>hernadezyeli</td>\n",
       "      <td>70 % avis positifs (572 notes)</td>\n",
       "      <td>572</td>\n",
       "      <td>3.367133</td>\n",
       "      <td>5dc818ca030a154e48a3a8af</td>\n",
       "      <td>0</td>\n",
       "      <td>NaN</td>\n",
       "      <td>summer</td>\n",
       "      <td>2020-08</td>\n",
       "      <td>1166</td>\n",
       "    </tr>\n",
       "    <tr>\n",
       "      <th>475</th>\n",
       "      <td>6.00</td>\n",
       "      <td>17</td>\n",
       "      <td>EUR</td>\n",
       "      <td>5000</td>\n",
       "      <td>1</td>\n",
       "      <td>817</td>\n",
       "      <td>0</td>\n",
       "      <td>0</td>\n",
       "      <td>0</td>\n",
       "      <td>0</td>\n",
       "      <td>...</td>\n",
       "      <td>firstcrush</td>\n",
       "      <td>87 % avis positifs (50,864 notes)</td>\n",
       "      <td>50864</td>\n",
       "      <td>4.079644</td>\n",
       "      <td>587f85cbb8038f4cb049c56c</td>\n",
       "      <td>1</td>\n",
       "      <td>https://s3-us-west-1.amazonaws.com/sweeper-pro...</td>\n",
       "      <td>summer</td>\n",
       "      <td>2020-08</td>\n",
       "      <td>1416</td>\n",
       "    </tr>\n",
       "    <tr>\n",
       "      <th>476</th>\n",
       "      <td>4.83</td>\n",
       "      <td>51</td>\n",
       "      <td>EUR</td>\n",
       "      <td>50</td>\n",
       "      <td>1</td>\n",
       "      <td>1</td>\n",
       "      <td>0</td>\n",
       "      <td>0</td>\n",
       "      <td>0</td>\n",
       "      <td>0</td>\n",
       "      <td>...</td>\n",
       "      <td>saulstore</td>\n",
       "      <td>85 % avis positifs (57 notes)</td>\n",
       "      <td>57</td>\n",
       "      <td>3.824561</td>\n",
       "      <td>5e3c5fbfe217d492138970c1</td>\n",
       "      <td>0</td>\n",
       "      <td>NaN</td>\n",
       "      <td>summer</td>\n",
       "      <td>2020-08</td>\n",
       "      <td>63</td>\n",
       "    </tr>\n",
       "    <tr>\n",
       "      <th>477</th>\n",
       "      <td>3.00</td>\n",
       "      <td>3</td>\n",
       "      <td>EUR</td>\n",
       "      <td>100</td>\n",
       "      <td>1</td>\n",
       "      <td>8</td>\n",
       "      <td>0</td>\n",
       "      <td>0</td>\n",
       "      <td>0</td>\n",
       "      <td>0</td>\n",
       "      <td>...</td>\n",
       "      <td>hey1827</td>\n",
       "      <td>87 % avis positifs (1,086 notes)</td>\n",
       "      <td>1086</td>\n",
       "      <td>4.056169</td>\n",
       "      <td>5c6d6c28619caa1d94891d06</td>\n",
       "      <td>0</td>\n",
       "      <td>NaN</td>\n",
       "      <td>summer</td>\n",
       "      <td>2020-08</td>\n",
       "      <td>626</td>\n",
       "    </tr>\n",
       "    <tr>\n",
       "      <th>478</th>\n",
       "      <td>13.00</td>\n",
       "      <td>11</td>\n",
       "      <td>EUR</td>\n",
       "      <td>100</td>\n",
       "      <td>1</td>\n",
       "      <td>4</td>\n",
       "      <td>0</td>\n",
       "      <td>0</td>\n",
       "      <td>0</td>\n",
       "      <td>0</td>\n",
       "      <td>...</td>\n",
       "      <td>rtgh710402e4b24511e6b69106d0c1a90220</td>\n",
       "      <td>86% Feedback pozitiv (45,151 rating)</td>\n",
       "      <td>45151</td>\n",
       "      <td>4.032956</td>\n",
       "      <td>5836e38728f25753fe6af6a8</td>\n",
       "      <td>0</td>\n",
       "      <td>NaN</td>\n",
       "      <td>summer</td>\n",
       "      <td>2020-08</td>\n",
       "      <td>196</td>\n",
       "    </tr>\n",
       "  </tbody>\n",
       "</table>\n",
       "<p>479 rows × 33 columns</p>\n",
       "</div>"
      ],
      "text/plain": [
       "     price  retail_price currency_buyer  units_sold  uses_ad_boosts  \\\n",
       "0     5.75             5            EUR          10               1   \n",
       "1     7.00             7            EUR        5000               0   \n",
       "2     5.00            16            EUR        1000               1   \n",
       "3    18.00            27            EUR        5000               1   \n",
       "4    12.00            81            EUR       20000               0   \n",
       "..     ...           ...            ...         ...             ...   \n",
       "474  16.00            14            EUR         100               1   \n",
       "475   6.00            17            EUR        5000               1   \n",
       "476   4.83            51            EUR          50               1   \n",
       "477   3.00             3            EUR         100               1   \n",
       "478  13.00            11            EUR         100               1   \n",
       "\n",
       "     rating_count  badges_count  badge_local_product  badge_product_quality  \\\n",
       "0               0             0                    0                      0   \n",
       "1             579             0                    0                      0   \n",
       "2              62             0                    0                      0   \n",
       "3            1903             0                    0                      0   \n",
       "4            1799             0                    0                      0   \n",
       "..            ...           ...                  ...                    ...   \n",
       "474            27             0                    0                      0   \n",
       "475           817             0                    0                      0   \n",
       "476             1             0                    0                      0   \n",
       "477             8             0                    0                      0   \n",
       "478             4             0                    0                      0   \n",
       "\n",
       "     badge_fast_shipping  ...                         merchant_name  \\\n",
       "0                      0  ...                             liyang163   \n",
       "1                      0  ...                        singingthesong   \n",
       "2                      0  ...                        surperboutique   \n",
       "3                      0  ...                              postonny   \n",
       "4                      0  ...                       guangzhouchanny   \n",
       "..                   ...  ...                                   ...   \n",
       "474                    0  ...                          hernadezyeli   \n",
       "475                    0  ...                            firstcrush   \n",
       "476                    0  ...                             saulstore   \n",
       "477                    0  ...                               hey1827   \n",
       "478                    0  ...  rtgh710402e4b24511e6b69106d0c1a90220   \n",
       "\n",
       "                   merchant_info_subtitle merchant_rating_count  \\\n",
       "0            33 % avis positifs (3 notes)                     3   \n",
       "1        86 % avis positifs (4,213 notes)                  4213   \n",
       "2       85 % avis positifs (10,501 notes)                 10501   \n",
       "3       86 % avis positifs (15,855 notes)                 15855   \n",
       "4      88 % avis positifs (151,914 notes)                151914   \n",
       "..                                    ...                   ...   \n",
       "474        70 % avis positifs (572 notes)                   572   \n",
       "475     87 % avis positifs (50,864 notes)                 50864   \n",
       "476         85 % avis positifs (57 notes)                    57   \n",
       "477      87 % avis positifs (1,086 notes)                  1086   \n",
       "478  86% Feedback pozitiv (45,151 rating)                 45151   \n",
       "\n",
       "     merchant_rating               merchant_id  merchant_has_profile_picture  \\\n",
       "0           2.333333  5e63469b2fdc774466e15dd5                             0   \n",
       "1           4.058391  583547f417dc6224cb464117                             0   \n",
       "2           4.029235  57086fd7fa6bee434d0e5852                             0   \n",
       "3           4.052917  5a17b55d1f4d8c4f0b44b0ce                             0   \n",
       "4           4.127921  53aa664438d3046ee44a5024                             0   \n",
       "..               ...                       ...                           ...   \n",
       "474         3.367133  5dc818ca030a154e48a3a8af                             0   \n",
       "475         4.079644  587f85cbb8038f4cb049c56c                             1   \n",
       "476         3.824561  5e3c5fbfe217d492138970c1                             0   \n",
       "477         4.056169  5c6d6c28619caa1d94891d06                             0   \n",
       "478         4.032956  5836e38728f25753fe6af6a8                             0   \n",
       "\n",
       "                              merchant_profile_picture   theme  crawl_month  \\\n",
       "0                                                  NaN  summer      2020-08   \n",
       "1                                                  NaN  summer      2020-08   \n",
       "2                                                  NaN  summer      2020-08   \n",
       "3                                                  NaN  summer      2020-08   \n",
       "4                                                  NaN  summer      2020-08   \n",
       "..                                                 ...     ...          ...   \n",
       "474                                                NaN  summer      2020-08   \n",
       "475  https://s3-us-west-1.amazonaws.com/sweeper-pro...  summer      2020-08   \n",
       "476                                                NaN  summer      2020-08   \n",
       "477                                                NaN  summer      2020-08   \n",
       "478                                                NaN  summer      2020-08   \n",
       "\n",
       "       id  \n",
       "0     937  \n",
       "1     270  \n",
       "2     308  \n",
       "3     913  \n",
       "4     403  \n",
       "..    ...  \n",
       "474  1166  \n",
       "475  1416  \n",
       "476    63  \n",
       "477   626  \n",
       "478   196  \n",
       "\n",
       "[479 rows x 33 columns]"
      ]
     },
     "execution_count": 393,
     "metadata": {},
     "output_type": "execute_result"
    }
   ],
   "source": [
    "df2"
   ]
  },
  {
   "cell_type": "code",
   "execution_count": 365,
   "metadata": {
    "execution": {
     "iopub.execute_input": "2024-03-21T14:14:09.479758Z",
     "iopub.status.busy": "2024-03-21T14:14:09.479210Z",
     "iopub.status.idle": "2024-03-21T14:14:09.497010Z",
     "shell.execute_reply": "2024-03-21T14:14:09.495699Z",
     "shell.execute_reply.started": "2024-03-21T14:14:09.479718Z"
    }
   },
   "outputs": [
    {
     "name": "stdout",
     "output_type": "stream",
     "text": [
      "<class 'pandas.core.frame.DataFrame'>\n",
      "RangeIndex: 479 entries, 0 to 478\n",
      "Data columns (total 33 columns):\n",
      " #   Column                        Non-Null Count  Dtype  \n",
      "---  ------                        --------------  -----  \n",
      " 0   price                         479 non-null    float64\n",
      " 1   retail_price                  479 non-null    int64  \n",
      " 2   currency_buyer                479 non-null    object \n",
      " 3   units_sold                    479 non-null    int64  \n",
      " 4   uses_ad_boosts                479 non-null    int64  \n",
      " 5   rating_count                  479 non-null    int64  \n",
      " 6   badges_count                  479 non-null    int64  \n",
      " 7   badge_local_product           479 non-null    int64  \n",
      " 8   badge_product_quality         479 non-null    int64  \n",
      " 9   badge_fast_shipping           479 non-null    int64  \n",
      " 10  tags                          479 non-null    object \n",
      " 11  product_color                 467 non-null    object \n",
      " 12  product_variation_size_id     477 non-null    object \n",
      " 13  product_variation_inventory   479 non-null    int64  \n",
      " 14  shipping_option_name          479 non-null    object \n",
      " 15  shipping_option_price         479 non-null    int64  \n",
      " 16  shipping_is_express           479 non-null    int64  \n",
      " 17  countries_shipped_to          479 non-null    int64  \n",
      " 18  inventory_total               479 non-null    int64  \n",
      " 19  has_urgency_banner            124 non-null    float64\n",
      " 20  urgency_text                  124 non-null    object \n",
      " 21  origin_country                474 non-null    object \n",
      " 22  merchant_title                479 non-null    object \n",
      " 23  merchant_name                 479 non-null    object \n",
      " 24  merchant_info_subtitle        478 non-null    object \n",
      " 25  merchant_rating_count         479 non-null    int64  \n",
      " 26  merchant_rating               479 non-null    float64\n",
      " 27  merchant_id                   479 non-null    object \n",
      " 28  merchant_has_profile_picture  479 non-null    int64  \n",
      " 29  merchant_profile_picture      56 non-null     object \n",
      " 30  theme                         479 non-null    object \n",
      " 31  crawl_month                   479 non-null    object \n",
      " 32  id                            479 non-null    int64  \n",
      "dtypes: float64(3), int64(16), object(14)\n",
      "memory usage: 123.6+ KB\n"
     ]
    }
   ],
   "source": [
    "df2.info()"
   ]
  },
  {
   "cell_type": "code",
   "execution_count": 366,
   "metadata": {
    "execution": {
     "iopub.execute_input": "2024-03-21T14:14:15.337494Z",
     "iopub.status.busy": "2024-03-21T14:14:15.336994Z",
     "iopub.status.idle": "2024-03-21T14:14:15.348531Z",
     "shell.execute_reply": "2024-03-21T14:14:15.347203Z",
     "shell.execute_reply.started": "2024-03-21T14:14:15.337455Z"
    }
   },
   "outputs": [
    {
     "data": {
      "text/plain": [
       "price                             0\n",
       "retail_price                      0\n",
       "currency_buyer                    0\n",
       "units_sold                        0\n",
       "uses_ad_boosts                    0\n",
       "rating_count                      0\n",
       "badges_count                      0\n",
       "badge_local_product               0\n",
       "badge_product_quality             0\n",
       "badge_fast_shipping               0\n",
       "tags                              0\n",
       "product_color                    12\n",
       "product_variation_size_id         2\n",
       "product_variation_inventory       0\n",
       "shipping_option_name              0\n",
       "shipping_option_price             0\n",
       "shipping_is_express               0\n",
       "countries_shipped_to              0\n",
       "inventory_total                   0\n",
       "has_urgency_banner              355\n",
       "urgency_text                    355\n",
       "origin_country                    5\n",
       "merchant_title                    0\n",
       "merchant_name                     0\n",
       "merchant_info_subtitle            1\n",
       "merchant_rating_count             0\n",
       "merchant_rating                   0\n",
       "merchant_id                       0\n",
       "merchant_has_profile_picture      0\n",
       "merchant_profile_picture        423\n",
       "theme                             0\n",
       "crawl_month                       0\n",
       "id                                0\n",
       "dtype: int64"
      ]
     },
     "execution_count": 366,
     "metadata": {},
     "output_type": "execute_result"
    }
   ],
   "source": [
    "df2.isna().sum()"
   ]
  },
  {
   "cell_type": "code",
   "execution_count": 394,
   "metadata": {
    "execution": {
     "iopub.execute_input": "2024-03-21T15:26:10.744782Z",
     "iopub.status.busy": "2024-03-21T15:26:10.744302Z",
     "iopub.status.idle": "2024-03-21T15:26:10.753608Z",
     "shell.execute_reply": "2024-03-21T15:26:10.752070Z",
     "shell.execute_reply.started": "2024-03-21T15:26:10.744750Z"
    }
   },
   "outputs": [],
   "source": [
    "# Drop the columns from the test data that were dropped from the training data\n",
    "df2.drop(columns=['product_color','product_variation_size_id','origin_country','merchant_name','merchant_profile_picture','merchant_info_subtitle','merchant_has_profile_picture','urgency_text'], inplace=True)"
   ]
  },
  {
   "cell_type": "code",
   "execution_count": 395,
   "metadata": {
    "execution": {
     "iopub.execute_input": "2024-03-21T15:26:16.993710Z",
     "iopub.status.busy": "2024-03-21T15:26:16.993049Z",
     "iopub.status.idle": "2024-03-21T15:26:17.003964Z",
     "shell.execute_reply": "2024-03-21T15:26:17.001986Z",
     "shell.execute_reply.started": "2024-03-21T15:26:16.993654Z"
    }
   },
   "outputs": [],
   "source": [
    "# Fill missing values in the 'has_urgency_banner' column with 0\n",
    "df2['has_urgency_banner'] = df['has_urgency_banner'].fillna(0)"
   ]
  },
  {
   "cell_type": "code",
   "execution_count": 371,
   "metadata": {
    "execution": {
     "iopub.execute_input": "2024-03-21T14:17:18.004485Z",
     "iopub.status.busy": "2024-03-21T14:17:18.003994Z",
     "iopub.status.idle": "2024-03-21T14:17:18.015836Z",
     "shell.execute_reply": "2024-03-21T14:17:18.014605Z",
     "shell.execute_reply.started": "2024-03-21T14:17:18.004449Z"
    }
   },
   "outputs": [
    {
     "data": {
      "text/plain": [
       "array([0., 1.])"
      ]
     },
     "execution_count": 371,
     "metadata": {},
     "output_type": "execute_result"
    }
   ],
   "source": [
    "df2['has_urgency_banner'].unique()"
   ]
  },
  {
   "cell_type": "code",
   "execution_count": 372,
   "metadata": {
    "execution": {
     "iopub.execute_input": "2024-03-21T14:17:27.066151Z",
     "iopub.status.busy": "2024-03-21T14:17:27.065711Z",
     "iopub.status.idle": "2024-03-21T14:17:27.083789Z",
     "shell.execute_reply": "2024-03-21T14:17:27.082554Z",
     "shell.execute_reply.started": "2024-03-21T14:17:27.066122Z"
    }
   },
   "outputs": [
    {
     "data": {
      "text/plain": [
       "0"
      ]
     },
     "execution_count": 372,
     "metadata": {},
     "output_type": "execute_result"
    }
   ],
   "source": [
    "# sum of duplicated value\n",
    "df2.duplicated().sum()"
   ]
  },
  {
   "cell_type": "code",
   "execution_count": 373,
   "metadata": {
    "execution": {
     "iopub.execute_input": "2024-03-21T14:17:35.083043Z",
     "iopub.status.busy": "2024-03-21T14:17:35.082575Z",
     "iopub.status.idle": "2024-03-21T14:17:35.090183Z",
     "shell.execute_reply": "2024-03-21T14:17:35.089190Z",
     "shell.execute_reply.started": "2024-03-21T14:17:35.083011Z"
    }
   },
   "outputs": [],
   "source": [
    "# Taking the same features as the training data\n",
    "df_test = df2[['price', 'shipping_option_price', 'merchant_rating_count', \\\n",
    "                       'badges_count', 'badge_product_quality']]"
   ]
  },
  {
   "cell_type": "code",
   "execution_count": 374,
   "metadata": {
    "execution": {
     "iopub.execute_input": "2024-03-21T14:17:47.727727Z",
     "iopub.status.busy": "2024-03-21T14:17:47.727326Z",
     "iopub.status.idle": "2024-03-21T14:17:47.736454Z",
     "shell.execute_reply": "2024-03-21T14:17:47.735402Z",
     "shell.execute_reply.started": "2024-03-21T14:17:47.727697Z"
    }
   },
   "outputs": [
    {
     "name": "stderr",
     "output_type": "stream",
     "text": [
      "/opt/conda/lib/python3.10/site-packages/sklearn/base.py:432: UserWarning:\n",
      "\n",
      "X has feature names, but DecisionTreeClassifier was fitted without feature names\n",
      "\n"
     ]
    }
   ],
   "source": [
    "# Making predictions using the trained model\n",
    "predictions=model.predict(df_test)"
   ]
  },
  {
   "cell_type": "code",
   "execution_count": 375,
   "metadata": {
    "execution": {
     "iopub.execute_input": "2024-03-21T14:18:04.800570Z",
     "iopub.status.busy": "2024-03-21T14:18:04.800140Z",
     "iopub.status.idle": "2024-03-21T14:18:04.811203Z",
     "shell.execute_reply": "2024-03-21T14:18:04.809774Z",
     "shell.execute_reply.started": "2024-03-21T14:18:04.800540Z"
    }
   },
   "outputs": [
    {
     "data": {
      "text/plain": [
       "array([4., 4., 4., 4., 4., 4., 4., 4., 4., 4., 4., 4., 4., 4., 4., 4., 4.,\n",
       "       4., 4., 4., 4., 4., 4., 4., 4., 4., 4., 4., 4., 4., 4., 4., 4., 4.,\n",
       "       4., 4., 4., 4., 4., 4., 4., 4., 4., 4., 4., 4., 4., 4., 4., 4., 4.,\n",
       "       4., 4., 4., 4., 4., 4., 4., 4., 4., 4., 4., 4., 4., 4., 4., 4., 4.,\n",
       "       4., 4., 4., 4., 4., 4., 4., 4., 4., 4., 4., 4., 4., 4., 4., 4., 4.,\n",
       "       4., 4., 4., 4., 4., 5., 4., 4., 4., 4., 4., 4., 4., 4., 4., 4., 4.,\n",
       "       4., 4., 4., 4., 4., 4., 4., 4., 4., 4., 4., 4., 4., 4., 4., 4., 4.,\n",
       "       4., 4., 4., 4., 4., 4., 4., 4., 4., 4., 4., 4., 4., 4., 4., 4., 4.,\n",
       "       4., 4., 4., 4., 4., 4., 4., 4., 4., 4., 4., 4., 4., 4., 4., 4., 4.,\n",
       "       4., 4., 4., 4., 4., 4., 4., 4., 4., 4., 4., 4., 4., 4., 4., 4., 4.,\n",
       "       4., 4., 4., 4., 4., 4., 4., 4., 4., 4., 4., 4., 4., 4., 4., 4., 4.,\n",
       "       4., 4., 4., 4., 4., 4., 4., 4., 4., 4., 4., 4., 4., 4., 4., 4., 4.,\n",
       "       4., 4., 4., 4., 4., 4., 4., 4., 4., 4., 4., 4., 4., 4., 4., 4., 4.,\n",
       "       4., 4., 4., 4., 4., 4., 4., 4., 4., 4., 4., 4., 4., 4., 4., 4., 4.,\n",
       "       4., 4., 4., 4., 4., 4., 4., 4., 4., 4., 4., 4., 4., 4., 4., 4., 4.,\n",
       "       4., 4., 4., 4., 4., 4., 4., 4., 4., 4., 4., 4., 4., 4., 4., 4., 4.,\n",
       "       4., 4., 4., 4., 4., 4., 4., 4., 4., 4., 4., 4., 4., 4., 4., 4., 4.,\n",
       "       4., 4., 4., 4., 4., 4., 4., 4., 4., 4., 4., 4., 4., 4., 4., 4., 4.,\n",
       "       4., 4., 4., 4., 4., 4., 4., 4., 4., 4., 4., 4., 4., 4., 4., 4., 4.,\n",
       "       4., 4., 4., 4., 4., 4., 4., 4., 4., 4., 4., 4., 4., 4., 4., 4., 4.,\n",
       "       4., 4., 4., 4., 4., 4., 4., 4., 4., 4., 4., 4., 4., 4., 4., 4., 4.,\n",
       "       4., 4., 4., 4., 4., 4., 4., 4., 4., 4., 4., 4., 4., 4., 4., 4., 4.,\n",
       "       4., 4., 4., 4., 4., 4., 4., 4., 4., 4., 4., 4., 4., 4., 4., 4., 4.,\n",
       "       4., 4., 4., 4., 4., 4., 4., 4., 4., 4., 4., 4., 4., 4., 4., 4., 4.,\n",
       "       4., 4., 4., 4., 4., 4., 4., 4., 4., 4., 4., 4., 4., 4., 4., 4., 4.,\n",
       "       4., 4., 4., 4., 4., 4., 4., 4., 4., 4., 4., 4., 4., 4., 4., 4., 4.,\n",
       "       4., 4., 4., 4., 4., 4., 4., 4., 4., 4., 4., 4., 4., 4., 4., 4., 4.,\n",
       "       4., 4., 4., 4., 4., 4., 4., 4., 4., 4., 4., 4., 4., 4., 4., 4., 4.,\n",
       "       4., 4., 4.])"
      ]
     },
     "execution_count": 375,
     "metadata": {},
     "output_type": "execute_result"
    }
   ],
   "source": [
    "# array of predictions\n",
    "predictions"
   ]
  },
  {
   "cell_type": "code",
   "execution_count": 377,
   "metadata": {
    "execution": {
     "iopub.execute_input": "2024-03-21T14:23:52.800646Z",
     "iopub.status.busy": "2024-03-21T14:23:52.800027Z",
     "iopub.status.idle": "2024-03-21T14:23:52.814384Z",
     "shell.execute_reply": "2024-03-21T14:23:52.812551Z",
     "shell.execute_reply.started": "2024-03-21T14:23:52.800606Z"
    }
   },
   "outputs": [],
   "source": [
    "## Creating a DataFrame with predictions and corresponding IDs\n",
    "_id=df2['id']\n",
    "# Saving the DataFrame to a CSV file without including the index\n",
    "pred_df = pd.DataFrame(data={'ID': np.asarray(_id), 'rating': predictions})\n",
    "pred_df.to_csv('submission.csv', index=False)"
   ]
  },
  {
   "cell_type": "markdown",
   "metadata": {},
   "source": [
    "# **Second experiment**"
   ]
  },
  {
   "cell_type": "markdown",
   "metadata": {},
   "source": [
    "**decision tree**  with different parms and different features"
   ]
  },
  {
   "cell_type": "markdown",
   "metadata": {},
   "source": [
    "I'm opting to include additional numerical features in an attempt to improve the model's accuracy."
   ]
  },
  {
   "cell_type": "code",
   "execution_count": 415,
   "metadata": {
    "execution": {
     "iopub.execute_input": "2024-03-21T16:05:46.139055Z",
     "iopub.status.busy": "2024-03-21T16:05:46.138503Z",
     "iopub.status.idle": "2024-03-21T16:05:46.148554Z",
     "shell.execute_reply": "2024-03-21T16:05:46.147057Z",
     "shell.execute_reply.started": "2024-03-21T16:05:46.139021Z"
    }
   },
   "outputs": [],
   "source": [
    "# selected features\n",
    "x = df[['price', 'shipping_option_price', 'merchant_rating_count', \\\n",
    "                       'badges_count', 'badge_product_quality','units_sold']]\n",
    "y =df[\"rating\"] # the target"
   ]
  },
  {
   "cell_type": "code",
   "execution_count": 416,
   "metadata": {
    "execution": {
     "iopub.execute_input": "2024-03-21T16:05:50.970994Z",
     "iopub.status.busy": "2024-03-21T16:05:50.970572Z",
     "iopub.status.idle": "2024-03-21T16:05:50.978711Z",
     "shell.execute_reply": "2024-03-21T16:05:50.977683Z",
     "shell.execute_reply.started": "2024-03-21T16:05:50.970964Z"
    }
   },
   "outputs": [],
   "source": [
    "# Splitting the data into training and validation sets\n",
    "X_train,X_test,y_train,y_test = train_test_split(x,y,test_size=0.3,random_state=50)"
   ]
  },
  {
   "cell_type": "code",
   "execution_count": 417,
   "metadata": {
    "execution": {
     "iopub.execute_input": "2024-03-21T16:05:53.216322Z",
     "iopub.status.busy": "2024-03-21T16:05:53.215208Z",
     "iopub.status.idle": "2024-03-21T16:05:53.226439Z",
     "shell.execute_reply": "2024-03-21T16:05:53.225439Z",
     "shell.execute_reply.started": "2024-03-21T16:05:53.216284Z"
    }
   },
   "outputs": [
    {
     "data": {
      "text/html": [
       "<style>#sk-container-id-8 {color: black;background-color: white;}#sk-container-id-8 pre{padding: 0;}#sk-container-id-8 div.sk-toggleable {background-color: white;}#sk-container-id-8 label.sk-toggleable__label {cursor: pointer;display: block;width: 100%;margin-bottom: 0;padding: 0.3em;box-sizing: border-box;text-align: center;}#sk-container-id-8 label.sk-toggleable__label-arrow:before {content: \"▸\";float: left;margin-right: 0.25em;color: #696969;}#sk-container-id-8 label.sk-toggleable__label-arrow:hover:before {color: black;}#sk-container-id-8 div.sk-estimator:hover label.sk-toggleable__label-arrow:before {color: black;}#sk-container-id-8 div.sk-toggleable__content {max-height: 0;max-width: 0;overflow: hidden;text-align: left;background-color: #f0f8ff;}#sk-container-id-8 div.sk-toggleable__content pre {margin: 0.2em;color: black;border-radius: 0.25em;background-color: #f0f8ff;}#sk-container-id-8 input.sk-toggleable__control:checked~div.sk-toggleable__content {max-height: 200px;max-width: 100%;overflow: auto;}#sk-container-id-8 input.sk-toggleable__control:checked~label.sk-toggleable__label-arrow:before {content: \"▾\";}#sk-container-id-8 div.sk-estimator input.sk-toggleable__control:checked~label.sk-toggleable__label {background-color: #d4ebff;}#sk-container-id-8 div.sk-label input.sk-toggleable__control:checked~label.sk-toggleable__label {background-color: #d4ebff;}#sk-container-id-8 input.sk-hidden--visually {border: 0;clip: rect(1px 1px 1px 1px);clip: rect(1px, 1px, 1px, 1px);height: 1px;margin: -1px;overflow: hidden;padding: 0;position: absolute;width: 1px;}#sk-container-id-8 div.sk-estimator {font-family: monospace;background-color: #f0f8ff;border: 1px dotted black;border-radius: 0.25em;box-sizing: border-box;margin-bottom: 0.5em;}#sk-container-id-8 div.sk-estimator:hover {background-color: #d4ebff;}#sk-container-id-8 div.sk-parallel-item::after {content: \"\";width: 100%;border-bottom: 1px solid gray;flex-grow: 1;}#sk-container-id-8 div.sk-label:hover label.sk-toggleable__label {background-color: #d4ebff;}#sk-container-id-8 div.sk-serial::before {content: \"\";position: absolute;border-left: 1px solid gray;box-sizing: border-box;top: 0;bottom: 0;left: 50%;z-index: 0;}#sk-container-id-8 div.sk-serial {display: flex;flex-direction: column;align-items: center;background-color: white;padding-right: 0.2em;padding-left: 0.2em;position: relative;}#sk-container-id-8 div.sk-item {position: relative;z-index: 1;}#sk-container-id-8 div.sk-parallel {display: flex;align-items: stretch;justify-content: center;background-color: white;position: relative;}#sk-container-id-8 div.sk-item::before, #sk-container-id-8 div.sk-parallel-item::before {content: \"\";position: absolute;border-left: 1px solid gray;box-sizing: border-box;top: 0;bottom: 0;left: 50%;z-index: -1;}#sk-container-id-8 div.sk-parallel-item {display: flex;flex-direction: column;z-index: 1;position: relative;background-color: white;}#sk-container-id-8 div.sk-parallel-item:first-child::after {align-self: flex-end;width: 50%;}#sk-container-id-8 div.sk-parallel-item:last-child::after {align-self: flex-start;width: 50%;}#sk-container-id-8 div.sk-parallel-item:only-child::after {width: 0;}#sk-container-id-8 div.sk-dashed-wrapped {border: 1px dashed gray;margin: 0 0.4em 0.5em 0.4em;box-sizing: border-box;padding-bottom: 0.4em;background-color: white;}#sk-container-id-8 div.sk-label label {font-family: monospace;font-weight: bold;display: inline-block;line-height: 1.2em;}#sk-container-id-8 div.sk-label-container {text-align: center;}#sk-container-id-8 div.sk-container {/* jupyter's `normalize.less` sets `[hidden] { display: none; }` but bootstrap.min.css set `[hidden] { display: none !important; }` so we also need the `!important` here to be able to override the default hidden behavior on the sphinx rendered scikit-learn.org. See: https://github.com/scikit-learn/scikit-learn/issues/21755 */display: inline-block !important;position: relative;}#sk-container-id-8 div.sk-text-repr-fallback {display: none;}</style><div id=\"sk-container-id-8\" class=\"sk-top-container\"><div class=\"sk-text-repr-fallback\"><pre>StandardScaler()</pre><b>In a Jupyter environment, please rerun this cell to show the HTML representation or trust the notebook. <br />On GitHub, the HTML representation is unable to render, please try loading this page with nbviewer.org.</b></div><div class=\"sk-container\" hidden><div class=\"sk-item\"><div class=\"sk-estimator sk-toggleable\"><input class=\"sk-toggleable__control sk-hidden--visually\" id=\"sk-estimator-id-8\" type=\"checkbox\" checked><label for=\"sk-estimator-id-8\" class=\"sk-toggleable__label sk-toggleable__label-arrow\">StandardScaler</label><div class=\"sk-toggleable__content\"><pre>StandardScaler()</pre></div></div></div></div></div>"
      ],
      "text/plain": [
       "StandardScaler()"
      ]
     },
     "execution_count": 417,
     "metadata": {},
     "output_type": "execute_result"
    }
   ],
   "source": [
    "# Fit the scaler to the training data and transform it\n",
    "scaler.fit(X_train)"
   ]
  },
  {
   "cell_type": "code",
   "execution_count": 418,
   "metadata": {
    "execution": {
     "iopub.execute_input": "2024-03-21T16:05:55.351708Z",
     "iopub.status.busy": "2024-03-21T16:05:55.350870Z",
     "iopub.status.idle": "2024-03-21T16:05:55.362378Z",
     "shell.execute_reply": "2024-03-21T16:05:55.360493Z",
     "shell.execute_reply.started": "2024-03-21T16:05:55.351667Z"
    }
   },
   "outputs": [],
   "source": [
    "# Transform the validation data using the scaler fitted on the training data\n",
    "X_train_scaled = scaler.transform(X_train)\n",
    "X_test_scaled = scaler.transform(X_test)"
   ]
  },
  {
   "cell_type": "code",
   "execution_count": 428,
   "metadata": {
    "execution": {
     "iopub.execute_input": "2024-03-21T16:27:33.123871Z",
     "iopub.status.busy": "2024-03-21T16:27:33.122790Z",
     "iopub.status.idle": "2024-03-21T16:27:33.245609Z",
     "shell.execute_reply": "2024-03-21T16:27:33.244346Z",
     "shell.execute_reply.started": "2024-03-21T16:27:33.123809Z"
    }
   },
   "outputs": [
    {
     "name": "stdout",
     "output_type": "stream",
     "text": [
      "{'max_depth': 5}\n"
     ]
    },
    {
     "name": "stderr",
     "output_type": "stream",
     "text": [
      "/opt/conda/lib/python3.10/site-packages/sklearn/model_selection/_split.py:700: UserWarning:\n",
      "\n",
      "The least populated class in y has only 2 members, which is less than n_splits=5.\n",
      "\n"
     ]
    }
   ],
   "source": [
    "from sklearn.model_selection import GridSearchCV\n",
    "# Define the parameters grid\n",
    "DT_param = { 'max_depth': range(5, 10)}\n",
    "\n",
    "# Instantiate the Decision Tree Classifier\n",
    "model = DecisionTreeClassifier( criterion='gini')\n",
    "\n",
    "# Perform grid search with cross-validation\n",
    "grid=GridSearchCV(model,param_grid=DT_param)\n",
    "\n",
    "# Get the best estimator (model) and best parameters\n",
    "grid.fit(X_train_scaled,y_train)\n",
    "model=grid.best_estimator_\n",
    "print(grid.best_params_)"
   ]
  },
  {
   "cell_type": "code",
   "execution_count": 429,
   "metadata": {
    "execution": {
     "iopub.execute_input": "2024-03-21T16:27:39.273644Z",
     "iopub.status.busy": "2024-03-21T16:27:39.273182Z",
     "iopub.status.idle": "2024-03-21T16:27:39.295917Z",
     "shell.execute_reply": "2024-03-21T16:27:39.294923Z",
     "shell.execute_reply.started": "2024-03-21T16:27:39.273613Z"
    }
   },
   "outputs": [
    {
     "name": "stdout",
     "output_type": "stream",
     "text": [
      "              precision    recall  f1-score   support\n",
      "\n",
      "         2.0       0.00      0.00      0.00         2\n",
      "         3.0       0.75      0.06      0.11        50\n",
      "         4.0       0.77      0.92      0.84       235\n",
      "         5.0       0.44      0.44      0.44        41\n",
      "\n",
      "    accuracy                           0.73       328\n",
      "   macro avg       0.49      0.36      0.35       328\n",
      "weighted avg       0.72      0.73      0.67       328\n",
      "\n",
      "F1-Score is :  0.7256097560975608\n"
     ]
    },
    {
     "name": "stderr",
     "output_type": "stream",
     "text": [
      "/opt/conda/lib/python3.10/site-packages/sklearn/metrics/_classification.py:1344: UndefinedMetricWarning:\n",
      "\n",
      "Precision and F-score are ill-defined and being set to 0.0 in labels with no predicted samples. Use `zero_division` parameter to control this behavior.\n",
      "\n",
      "/opt/conda/lib/python3.10/site-packages/sklearn/metrics/_classification.py:1344: UndefinedMetricWarning:\n",
      "\n",
      "Precision and F-score are ill-defined and being set to 0.0 in labels with no predicted samples. Use `zero_division` parameter to control this behavior.\n",
      "\n",
      "/opt/conda/lib/python3.10/site-packages/sklearn/metrics/_classification.py:1344: UndefinedMetricWarning:\n",
      "\n",
      "Precision and F-score are ill-defined and being set to 0.0 in labels with no predicted samples. Use `zero_division` parameter to control this behavior.\n",
      "\n"
     ]
    }
   ],
   "source": [
    "# Predict the labels for the test set\n",
    "y_pred = model.predict(X_test_scaled)\n",
    "\n",
    "# Calculate the F1 score\n",
    "f1_scores_DTC=f1_score(y_test, y_pred,average='micro')\n",
    "\n",
    "# Print the classification report\n",
    "print(classification_report(y_test, y_pred))\n",
    "\n",
    "# Print the F1 score\n",
    "print('F1-Score is : ', f1_scores_DTC)"
   ]
  },
  {
   "cell_type": "code",
   "execution_count": 434,
   "metadata": {
    "execution": {
     "iopub.execute_input": "2024-03-21T16:28:33.794860Z",
     "iopub.status.busy": "2024-03-21T16:28:33.794445Z",
     "iopub.status.idle": "2024-03-21T16:28:33.801961Z",
     "shell.execute_reply": "2024-03-21T16:28:33.800886Z",
     "shell.execute_reply.started": "2024-03-21T16:28:33.794831Z"
    }
   },
   "outputs": [],
   "source": [
    "df_test=df2[['price', 'shipping_option_price', 'merchant_rating_count', \\\n",
    "                       'badges_count', 'badge_product_quality','units_sold']]"
   ]
  },
  {
   "cell_type": "code",
   "execution_count": 435,
   "metadata": {
    "execution": {
     "iopub.execute_input": "2024-03-21T16:28:35.337496Z",
     "iopub.status.busy": "2024-03-21T16:28:35.337018Z",
     "iopub.status.idle": "2024-03-21T16:28:35.347232Z",
     "shell.execute_reply": "2024-03-21T16:28:35.345310Z",
     "shell.execute_reply.started": "2024-03-21T16:28:35.337463Z"
    }
   },
   "outputs": [
    {
     "name": "stderr",
     "output_type": "stream",
     "text": [
      "/opt/conda/lib/python3.10/site-packages/sklearn/base.py:432: UserWarning:\n",
      "\n",
      "X has feature names, but DecisionTreeClassifier was fitted without feature names\n",
      "\n"
     ]
    }
   ],
   "source": [
    "# Making predictions using the trained model\n",
    "predictions=model.predict(df_test)"
   ]
  },
  {
   "cell_type": "code",
   "execution_count": 436,
   "metadata": {
    "execution": {
     "iopub.execute_input": "2024-03-21T16:28:41.255199Z",
     "iopub.status.busy": "2024-03-21T16:28:41.254717Z",
     "iopub.status.idle": "2024-03-21T16:28:41.265599Z",
     "shell.execute_reply": "2024-03-21T16:28:41.264279Z",
     "shell.execute_reply.started": "2024-03-21T16:28:41.255164Z"
    }
   },
   "outputs": [
    {
     "data": {
      "text/plain": [
       "array([3., 3., 3., 3., 3., 3., 3., 3., 3., 3., 3., 3., 3., 3., 3., 3., 3.,\n",
       "       3., 3., 3., 3., 3., 3., 3., 3., 3., 3., 3., 3., 3., 3., 3., 3., 3.,\n",
       "       3., 3., 3., 3., 3., 3., 3., 3., 3., 3., 3., 3., 3., 3., 3., 3., 3.,\n",
       "       3., 3., 3., 3., 3., 3., 3., 3., 3., 3., 3., 3., 3., 3., 3., 3., 3.,\n",
       "       3., 3., 3., 3., 3., 3., 3., 3., 3., 3., 3., 3., 3., 3., 3., 3., 3.,\n",
       "       3., 3., 3., 3., 3., 5., 3., 3., 3., 3., 3., 3., 3., 3., 3., 3., 3.,\n",
       "       3., 3., 3., 3., 3., 3., 3., 3., 3., 3., 3., 3., 3., 3., 3., 3., 3.,\n",
       "       3., 3., 3., 3., 3., 3., 3., 3., 3., 3., 3., 4., 3., 3., 3., 3., 3.,\n",
       "       3., 3., 3., 3., 3., 3., 3., 3., 3., 3., 3., 3., 3., 3., 3., 3., 3.,\n",
       "       3., 3., 3., 3., 3., 3., 3., 3., 3., 3., 3., 3., 3., 3., 3., 3., 3.,\n",
       "       3., 3., 3., 3., 3., 3., 3., 3., 3., 3., 3., 3., 3., 3., 3., 3., 3.,\n",
       "       3., 3., 3., 3., 3., 3., 3., 3., 3., 3., 3., 3., 3., 3., 3., 3., 3.,\n",
       "       3., 3., 3., 3., 3., 3., 3., 3., 3., 3., 3., 3., 3., 3., 3., 3., 3.,\n",
       "       3., 3., 3., 3., 3., 3., 3., 3., 3., 3., 3., 3., 3., 3., 3., 3., 3.,\n",
       "       3., 3., 3., 3., 3., 3., 3., 3., 4., 3., 4., 3., 3., 3., 3., 3., 3.,\n",
       "       3., 3., 3., 3., 3., 3., 3., 3., 3., 3., 3., 3., 3., 3., 3., 3., 3.,\n",
       "       3., 3., 3., 3., 3., 3., 3., 3., 3., 3., 3., 3., 3., 3., 3., 3., 3.,\n",
       "       3., 3., 3., 3., 3., 3., 3., 3., 3., 3., 3., 3., 3., 3., 4., 3., 3.,\n",
       "       3., 3., 3., 3., 3., 3., 3., 3., 3., 3., 3., 3., 3., 3., 3., 3., 3.,\n",
       "       3., 3., 3., 3., 3., 3., 3., 3., 3., 3., 3., 3., 3., 3., 3., 3., 3.,\n",
       "       3., 3., 3., 3., 3., 3., 3., 3., 3., 3., 4., 3., 3., 3., 3., 3., 3.,\n",
       "       3., 3., 3., 3., 3., 3., 3., 3., 4., 3., 3., 3., 3., 3., 3., 3., 3.,\n",
       "       3., 3., 3., 3., 3., 3., 3., 3., 3., 3., 3., 3., 3., 3., 3., 3., 3.,\n",
       "       3., 3., 3., 3., 3., 3., 3., 3., 3., 3., 3., 3., 3., 3., 3., 3., 4.,\n",
       "       3., 3., 3., 3., 3., 3., 3., 3., 3., 3., 3., 3., 3., 3., 3., 3., 3.,\n",
       "       3., 3., 3., 3., 3., 3., 3., 3., 3., 3., 3., 3., 4., 3., 3., 3., 3.,\n",
       "       3., 3., 3., 3., 3., 3., 3., 3., 3., 3., 3., 3., 4., 3., 3., 3., 3.,\n",
       "       3., 3., 3., 3., 3., 3., 3., 3., 3., 3., 3., 3., 3., 3., 3., 3., 3.,\n",
       "       3., 3., 3.])"
      ]
     },
     "execution_count": 436,
     "metadata": {},
     "output_type": "execute_result"
    }
   ],
   "source": [
    "# array of predictions\n",
    "predictions"
   ]
  },
  {
   "cell_type": "code",
   "execution_count": 438,
   "metadata": {
    "execution": {
     "iopub.execute_input": "2024-03-21T16:28:56.077676Z",
     "iopub.status.busy": "2024-03-21T16:28:56.077164Z",
     "iopub.status.idle": "2024-03-21T16:28:56.087345Z",
     "shell.execute_reply": "2024-03-21T16:28:56.085532Z",
     "shell.execute_reply.started": "2024-03-21T16:28:56.077639Z"
    }
   },
   "outputs": [],
   "source": [
    "## Creating a DataFrame with predictions and corresponding IDs\n",
    "_id=df2['id']\n",
    "# Saving the DataFrame to a CSV file without including the index\n",
    "pred_df = pd.DataFrame(data={'ID': np.asarray(_id), 'rating': predictions})\n",
    "pred_df.to_csv('submission2.csv', index=False)"
   ]
  },
  {
   "cell_type": "markdown",
   "metadata": {},
   "source": [
    "After experimenting with various parameters and different sets of features in the decision tree model to enhance accuracy, unfortunately, it did not yield significant improvement. Therefore, I'll explore alternative models to further improve performance."
   ]
  },
  {
   "cell_type": "markdown",
   "metadata": {},
   "source": [
    "# Experiment 3 :\n",
    "# using naive bayes"
   ]
  },
  {
   "cell_type": "code",
   "execution_count": 446,
   "metadata": {
    "execution": {
     "iopub.execute_input": "2024-03-21T16:55:32.723537Z",
     "iopub.status.busy": "2024-03-21T16:55:32.722982Z",
     "iopub.status.idle": "2024-03-21T16:55:32.736531Z",
     "shell.execute_reply": "2024-03-21T16:55:32.735111Z",
     "shell.execute_reply.started": "2024-03-21T16:55:32.723499Z"
    }
   },
   "outputs": [],
   "source": [
    "# selected features\n",
    "x = df[['price', 'shipping_option_price', 'merchant_rating_count', \\\n",
    "                       'badges_count', 'badge_product_quality','units_sold']]\n",
    "y =df[\"rating\"] # the target\n",
    "# Splitting the data into training and validation sets\n",
    "X_train,X_test,y_train,y_test = train_test_split(x,y,test_size=0.2,random_state=42)\n"
   ]
  },
  {
   "cell_type": "code",
   "execution_count": 450,
   "metadata": {
    "execution": {
     "iopub.execute_input": "2024-03-21T17:00:01.888805Z",
     "iopub.status.busy": "2024-03-21T17:00:01.888323Z",
     "iopub.status.idle": "2024-03-21T17:00:01.925303Z",
     "shell.execute_reply": "2024-03-21T17:00:01.924138Z",
     "shell.execute_reply.started": "2024-03-21T17:00:01.888772Z"
    }
   },
   "outputs": [
    {
     "name": "stdout",
     "output_type": "stream",
     "text": [
      "              precision    recall  f1-score   support\n",
      "\n",
      "         2.0       1.00      0.25      0.40         4\n",
      "         3.0       0.75      0.19      0.31        31\n",
      "         4.0       0.71      0.99      0.83       146\n",
      "         5.0       0.86      0.16      0.27        38\n",
      "\n",
      "    accuracy                           0.72       219\n",
      "   macro avg       0.83      0.40      0.45       219\n",
      "weighted avg       0.75      0.72      0.65       219\n",
      "\n",
      "F1-Score is :  0.7168949771689497\n"
     ]
    }
   ],
   "source": [
    "model2 = GaussianNB()\n",
    "model2.fit(X_train,y_train)\n",
    "y_pred = model.predict(X_test)\n",
    "f1_scores_NB=f1_score(y_test, y_pred, average='micro')\n",
    "print(classification_report(y_test, y_pred))\n",
    "print('F1-Score is : ', f1_scores_NB)"
   ]
  },
  {
   "cell_type": "code",
   "execution_count": 451,
   "metadata": {
    "execution": {
     "iopub.execute_input": "2024-03-21T17:00:11.660905Z",
     "iopub.status.busy": "2024-03-21T17:00:11.659360Z",
     "iopub.status.idle": "2024-03-21T17:00:11.667840Z",
     "shell.execute_reply": "2024-03-21T17:00:11.666686Z",
     "shell.execute_reply.started": "2024-03-21T17:00:11.660847Z"
    }
   },
   "outputs": [],
   "source": [
    "# Making predictions using the trained model\n",
    "predictions=model2.predict(df_test)"
   ]
  },
  {
   "cell_type": "code",
   "execution_count": 452,
   "metadata": {
    "execution": {
     "iopub.execute_input": "2024-03-21T17:00:14.306768Z",
     "iopub.status.busy": "2024-03-21T17:00:14.306372Z",
     "iopub.status.idle": "2024-03-21T17:00:14.316375Z",
     "shell.execute_reply": "2024-03-21T17:00:14.314799Z",
     "shell.execute_reply.started": "2024-03-21T17:00:14.306739Z"
    }
   },
   "outputs": [],
   "source": [
    "## Creating a DataFrame with predictions and corresponding IDs\n",
    "_id=df2['id']\n",
    "# Saving the DataFrame to a CSV file without including the index\n",
    "pred_df = pd.DataFrame(data={'ID': np.asarray(_id), 'rating': predictions})\n",
    "pred_df.to_csv('submission5.csv', index=False)"
   ]
  },
  {
   "cell_type": "markdown",
   "metadata": {},
   "source": [
    "The F1 score is 0.7168949771689497, which is slightly higher than the second experiment. However, it's noteworthy that the prediction results show a notable improvement compared to the previous experiment."
   ]
  },
  {
   "cell_type": "markdown",
   "metadata": {},
   "source": [
    "# Experiment 4:\n",
    "#  using svm "
   ]
  },
  {
   "cell_type": "code",
   "execution_count": 447,
   "metadata": {
    "execution": {
     "iopub.execute_input": "2024-03-21T16:56:09.413727Z",
     "iopub.status.busy": "2024-03-21T16:56:09.413292Z",
     "iopub.status.idle": "2024-03-21T16:56:09.430356Z",
     "shell.execute_reply": "2024-03-21T16:56:09.429302Z",
     "shell.execute_reply.started": "2024-03-21T16:56:09.413697Z"
    }
   },
   "outputs": [],
   "source": [
    "# selected features\n",
    "x = df[['price', 'shipping_option_price', 'merchant_rating_count', \\\n",
    "                       'badges_count', 'badge_product_quality','units_sold']]\n",
    "y =df[\"rating\"] # the target\n",
    "# Splitting the data into training and validation sets\n",
    "X_train,X_test,y_train,y_test = train_test_split(x,y,test_size=0.2,random_state=42)\n",
    "# Transform the validation data using the scaler fitted on the training data\n",
    "X_train_scaled = scaler.transform(X_train)\n",
    "X_test_scaled = scaler.transform(X_test)"
   ]
  },
  {
   "cell_type": "code",
   "execution_count": 462,
   "metadata": {
    "execution": {
     "iopub.execute_input": "2024-03-21T17:11:06.991358Z",
     "iopub.status.busy": "2024-03-21T17:11:06.990834Z",
     "iopub.status.idle": "2024-03-21T17:11:07.127375Z",
     "shell.execute_reply": "2024-03-21T17:11:07.125805Z",
     "shell.execute_reply.started": "2024-03-21T17:11:06.991320Z"
    }
   },
   "outputs": [
    {
     "name": "stdout",
     "output_type": "stream",
     "text": [
      "              precision    recall  f1-score   support\n",
      "\n",
      "         2.0       1.00      0.25      0.40         4\n",
      "         3.0       0.75      0.19      0.31        31\n",
      "         4.0       0.71      0.99      0.83       146\n",
      "         5.0       0.86      0.16      0.27        38\n",
      "\n",
      "    accuracy                           0.72       219\n",
      "   macro avg       0.83      0.40      0.45       219\n",
      "weighted avg       0.75      0.72      0.65       219\n",
      "\n",
      "F1-Score is :  0.7168949771689497\n"
     ]
    }
   ],
   "source": [
    "model3 = SVC(C=50,kernel='rbf',gamma=0.3)\n",
    "model3.fit(X_train,y_train)\n",
    "y_pred = model3.predict(X_test)\n",
    "f1_scores_NB=f1_score(y_test, y_pred, average='micro')\n",
    "print(classification_report(y_test, y_pred))\n",
    "print('F1-Score is : ', f1_scores_NB)"
   ]
  },
  {
   "cell_type": "code",
   "execution_count": 457,
   "metadata": {
    "execution": {
     "iopub.execute_input": "2024-03-21T17:02:58.904212Z",
     "iopub.status.busy": "2024-03-21T17:02:58.903459Z",
     "iopub.status.idle": "2024-03-21T17:02:58.937970Z",
     "shell.execute_reply": "2024-03-21T17:02:58.936612Z",
     "shell.execute_reply.started": "2024-03-21T17:02:58.904177Z"
    }
   },
   "outputs": [],
   "source": [
    "predictions=model3.predict(df_test)"
   ]
  },
  {
   "cell_type": "code",
   "execution_count": 459,
   "metadata": {
    "execution": {
     "iopub.execute_input": "2024-03-21T17:03:05.500162Z",
     "iopub.status.busy": "2024-03-21T17:03:05.499572Z",
     "iopub.status.idle": "2024-03-21T17:03:05.510954Z",
     "shell.execute_reply": "2024-03-21T17:03:05.509825Z",
     "shell.execute_reply.started": "2024-03-21T17:03:05.500124Z"
    }
   },
   "outputs": [],
   "source": [
    "## Creating a DataFrame with predictions and corresponding IDs\n",
    "_id=df2['id']\n",
    "# Saving the DataFrame to a CSV file without including the index\n",
    "pred_df = pd.DataFrame(data={'ID': np.asarray(_id), 'rating': predictions})\n",
    "pred_df.to_csv('submission7.csv', index=False)"
   ]
  },
  {
   "cell_type": "markdown",
   "metadata": {},
   "source": [
    "The F1 score is 0.7169, and the prediction score result is 0.7586, indicating an improvement over the previous experiment."
   ]
  },
  {
   "cell_type": "markdown",
   "metadata": {},
   "source": [
    "# Experiment 5:\n",
    "# SVM using different parms"
   ]
  },
  {
   "cell_type": "code",
   "execution_count": 460,
   "metadata": {
    "execution": {
     "iopub.execute_input": "2024-03-21T17:10:19.554323Z",
     "iopub.status.busy": "2024-03-21T17:10:19.553730Z",
     "iopub.status.idle": "2024-03-21T17:10:19.574007Z",
     "shell.execute_reply": "2024-03-21T17:10:19.572291Z",
     "shell.execute_reply.started": "2024-03-21T17:10:19.554287Z"
    }
   },
   "outputs": [],
   "source": [
    "# selected features\n",
    "x = df[['price', 'shipping_option_price', 'merchant_rating_count', \\\n",
    "                       'badges_count', 'badge_product_quality','units_sold']]\n",
    "y =df[\"rating\"] # the target\n",
    "# Splitting the data into training and validation sets\n",
    "X_train,X_test,y_train,y_test = train_test_split(x,y,test_size=0.2,random_state=42)\n",
    "# Transform the validation data using the scaler fitted on the training data\n",
    "X_train_scaled = scaler.transform(X_train)\n",
    "X_test_scaled = scaler.transform(X_test)"
   ]
  },
  {
   "cell_type": "code",
   "execution_count": null,
   "metadata": {},
   "outputs": [],
   "source": [
    "model4 = SVC(C=7,kernel='poly',gamma=0.2)\n",
    "model4.fit(X_train,y_train)\n",
    "y_pred = model4.predict(X_test)\n",
    "f1_scores_NB=f1_score(y_test, y_pred, average='micro')\n",
    "print(classification_report(y_test, y_pred))\n",
    "print('F1-Score is : ', f1_scores_NB)"
   ]
  },
  {
   "cell_type": "code",
   "execution_count": null,
   "metadata": {},
   "outputs": [],
   "source": [
    "predictions=model4.predict(df_test) "
   ]
  },
  {
   "cell_type": "code",
   "execution_count": null,
   "metadata": {},
   "outputs": [],
   "source": [
    "## Creating a DataFrame with predictions and corresponding IDs\n",
    "_id=df2['id']\n",
    "# Saving the DataFrame to a CSV file without including the index\n",
    "pred_df = pd.DataFrame(data={'ID': np.asarray(_id), 'rating': predictions})\n",
    "pred_df.to_csv('submission8.csv', index=False)"
   ]
  },
  {
   "cell_type": "markdown",
   "metadata": {},
   "source": [
    "# ✔️ Answer the questions below (briefly):\n",
    "\n",
    "🌈 Why Data Mining is a misnomer? What is another preferred name?\n",
    "\n",
    " data mining sounds like you're trapped in the desert looking for lost treasure! However, KDD, or Knowledge Discovery from Data, is more like to going through your aunt's baklava tray; all you need to do is locate the most delicious knowledge nuggets concealed behind the fragile layers of data.\n"
   ]
  },
  {
   "cell_type": "markdown",
   "metadata": {},
   "source": [
    "# 🌈 What is the general knowledge discovery process? What is the difference between a data engineer and data scientist/AI engineer?\n",
    "After gathering relevant data, data engineers transfer and modify it to create \"pipelines\" for data scientists. Data Scientist They review, confirm, aggregate, and improve the data. AI developers create innovative, autonomy-promoting products. AI engineers and data scientists work closely together to create products that are beneficial to clients."
   ]
  },
  {
   "cell_type": "markdown",
   "metadata": {},
   "source": [
    "# 🌈 In data mining, what is the difference between prediction and categorization?\n",
    "Assigning a (categorial) class (or label) to every element in a dataset is the process of classifying. Forecasting a continuous value from an incomplete or unknown dataset is the process of prediction."
   ]
  },
  {
   "cell_type": "markdown",
   "metadata": {},
   "source": [
    "# 🌈 Why data science/machine learning is a bad idea in the context of information security?\n",
    "Using personal data to create machine learning systems may lead to a number of issues. These include, but are not limited to:\n",
    "\n",
    "Danger of a data leak.\n",
    "Uncertainty\n",
    "Liability, accountability, and responsibility\n",
    "Information Violation\n",
    "Privacy Vulnerability"
   ]
  },
  {
   "cell_type": "markdown",
   "metadata": {},
   "source": [
    "# 🌈 What is CIA principle and how can we use it to access the security/privacy aspect of the AI system/pipelines?\n",
    "Confidentiality, integrity, and availability are referred to as the \"CIA triad,\" which describes a framework for directing information security (infosec) policy inside a company. To prevent confusion with the Central Intelligence Agency, the approach is frequently referred to as the AIC triad, which stands for availability, integrity, and confidentiality."
   ]
  },
  {
   "cell_type": "markdown",
   "metadata": {},
   "source": [
    "note : I borrowed a code snippet from my friend's notebook. "
   ]
  }
 ],
 "metadata": {
  "kaggle": {
   "accelerator": "none",
   "dataSources": [
    {
     "datasetId": 4631244,
     "sourceId": 7888689,
     "sourceType": "datasetVersion"
    }
   ],
   "dockerImageVersionId": 30664,
   "isGpuEnabled": false,
   "isInternetEnabled": true,
   "language": "python",
   "sourceType": "notebook"
  },
  "kernelspec": {
   "display_name": "Python 3",
   "language": "python",
   "name": "python3"
  },
  "language_info": {
   "codemirror_mode": {
    "name": "ipython",
    "version": 3
   },
   "file_extension": ".py",
   "mimetype": "text/x-python",
   "name": "python",
   "nbconvert_exporter": "python",
   "pygments_lexer": "ipython3",
   "version": "3.7.6"
  }
 },
 "nbformat": 4,
 "nbformat_minor": 4
}
